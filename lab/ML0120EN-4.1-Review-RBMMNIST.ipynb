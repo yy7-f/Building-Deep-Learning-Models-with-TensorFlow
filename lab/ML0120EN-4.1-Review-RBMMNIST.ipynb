{
 "cells": [
  {
   "cell_type": "markdown",
   "metadata": {},
   "source": [
    "<a href=\"https://www.skills.network/?utm_medium=Exinfluencer&utm_source=Exinfluencer&utm_content=000026UJ&utm_term=10006555&utm_id=NA-SkillsNetwork-Channel-SkillsNetworkCoursesIBMDeveloperSkillsNetworkDL0120ENSkillsNetwork20629446-2021-01-01\"><img src=\"https://cf-courses-data.s3.us.cloud-object-storage.appdomain.cloud/IBM-DL0120ENedX/labs/Template%20for%20Instructional%20Hands-on%20Labs/images/IDSNlogo.png\" width=\"400px\" align=\"center\"></a>\n",
    "\n",
    "<h1 align=\"center\"><font size=\"5\">RESTRICTED BOLTZMANN MACHINES</font></h1>\n"
   ]
  },
  {
   "cell_type": "markdown",
   "metadata": {},
   "source": [
    "Estimated time needed: **25** minutes\n"
   ]
  },
  {
   "cell_type": "markdown",
   "metadata": {},
   "source": [
    "<h3>Introduction</h3>\n",
    "<b>Restricted Boltzmann Machine (RBM):</b>  RBMs are shallow neural nets that learn to reconstruct data by themselves in an unsupervised fashion.  \n",
    "\n",
    "<h4>Why are RBMs important?</h4>\n",
    "An RBM are a basic form of autoencoder.  It can automatically extract <b>meaningful</b> features from a given input.\n",
    "\n",
    "<h4>How does it work?</h4>\n",
    "RBM is a 2 layer neural network. Simply, RBM takes the inputs and translates those into a set of binary values that represents them in the hidden layer. Then, these numbers can be translated back to reconstruct the inputs. Through several forward and backward passes, the RBM will be trained, and a trained RBM can reveal which features are the most important ones when detecting patterns.   \n",
    "\n",
    "<h4>What are the applications of an RBM?</h4>\n",
    "RBM is useful for <a href='http://www.cs.utoronto.ca/~hinton/absps/netflixICML.pdf?utm_medium=Exinfluencer&utm_source=Exinfluencer&utm_content=000026UJ&utm_term=10006555&utm_id=NA-SkillsNetwork-Channel-SkillsNetworkCoursesIBMDeveloperSkillsNetworkDL0120ENSkillsNetwork20629446-2021-01-01'>  Collaborative Filtering</a>, dimensionality reduction, classification, regression, feature learning, topic modeling and even <b>Deep Belief Networks</b>.\n",
    "\n",
    "<h4>Is RBM a generative or Discriminative model?</h4>\n",
    "RBM is a generative model. Let me explain it by first, see what is different between discriminative and generative models: \n",
    "\n",
    "<b>Discriminative:</b> Consider a classification problem where we want to learn to distinguish between Sedan cars (y = 1) and SUV cars (y = 0), based on some features of cars. Given a training set, an algorithm like logistic regression tries to find a straight line, or <i>decision boundary</i>, that separates the suv and sedan.\n",
    "\n",
    "<b>Generative:</b> looking at cars, we can build a model of what Sedan cars look like. Then, looking at SUVs, we can build a separate model of what SUV cars look like. Finally, to classify a new car, we can match the new car against the Sedan model, and match it against the SUV model, to see whether the new car looks more like the SUV or Sedan.\n",
    "\n",
    "Generative Models specify a probability distribution over a dataset of input vectors. We can carry out both supervised and unsupervised tasks with generative models:\n",
    "\n",
    "<ul>\n",
    "    <li>In an unsupervised task, we try to form a model for $P(x)$, where $P$ is the probability given $x$ as an input vector.</li>\n",
    "    <li>In the supervised task, we first form a model for $P(x|y)$, where $P$ is the probability of $x$ given $y$(the label for $x$). For example, if $y = 0$ indicates that a car is an SUV, and $y = 1$ indicates that a car is a sedan, then $p(x|y = 0)$ models the distribution of SUV features, and $p(x|y = 1)$ models the distribution of sedan features. If we manage to find $P(x|y)$ and $P(y)$, then we can use <b>Bayes rule</b> to estimate $P(y|x)$, because:   \n",
    "        $$p(y|x) = \\frac{p(x|y)p(y)}{p(x)}$$</li>\n",
    "</ul>\n",
    "Now the question is, can we build a generative model, and then use it to create synthetic data by directly sampling from the modeled probability distributions? Lets see. \n"
   ]
  },
  {
   "cell_type": "markdown",
   "metadata": {},
   "source": [
    "<h2>Table of Contents</h2>\n",
    "<ol>\n",
    "    <li><a href=\"https://#ref1\">Initialization</a></li>\n",
    "    <li><a href=\"https://#ref2\">RBM layers</a></li>\n",
    "    <li><a href=\"https://#ref3\">What RBM can do after training?</a></li>\n",
    "    <li><a href=\"https://#ref4\">How to train the model?</a></li>\n",
    "    <li><a href=\"https://#ref5\">Learned features</a></li>\n",
    "</ol>\n",
    "<p></p>\n",
    "</div>\n",
    "<br>\n",
    "\n",
    "<hr>\n"
   ]
  },
  {
   "cell_type": "markdown",
   "metadata": {},
   "source": [
    "<a id=\"ref1\"></a>\n",
    "\n",
    "<h3>Initialization</h3>\n",
    "\n",
    "First, we have to load the utility file which contains different utility functions that are not connected\n",
    "in any way to the networks presented in the tutorials, but rather help in\n",
    "processing the outputs into a more understandable way.\n"
   ]
  },
  {
   "cell_type": "code",
   "execution_count": 3,
   "metadata": {},
   "outputs": [],
   "source": [
    "import urllib.request\n",
    "with urllib.request.urlopen(\"https://cf-courses-data.s3.us.cloud-object-storage.appdomain.cloud/IBMDeveloperSkillsNetwork-DL0120EN-SkillsNetwork/labs/Week4/data/utils.py\") as url:\n",
    "    response = url.read()\n",
    "target = open('utils.py', 'w')\n",
    "target.write(response.decode('utf-8'))\n",
    "target.close()"
   ]
  },
  {
   "cell_type": "markdown",
   "metadata": {},
   "source": [
    "<h2>Installing TensorFlow </h2>\n",
    "\n",
    "We will installing TensorFlow version 2.2.0 and its required prerequistes.  Also installing pillow\\...\n"
   ]
  },
  {
   "cell_type": "code",
   "execution_count": 4,
   "metadata": {},
   "outputs": [
    {
     "name": "stdout",
     "output_type": "stream",
     "text": [
      "Collecting grpcio==1.24.3\n",
      "  Downloading grpcio-1.24.3-cp37-cp37m-manylinux2010_x86_64.whl (2.2 MB)\n",
      "\u001b[2K     \u001b[90m━━━━━━━━━━━━━━━━━━━━━━━━━━━━━━━━━━━━━━━━\u001b[0m \u001b[32m2.2/2.2 MB\u001b[0m \u001b[31m46.8 MB/s\u001b[0m eta \u001b[36m0:00:00\u001b[0m00:01\u001b[0m\n",
      "\u001b[?25hRequirement already satisfied: six>=1.5.2 in /home/jupyterlab/conda/envs/python/lib/python3.7/site-packages (from grpcio==1.24.3) (1.16.0)\n",
      "Installing collected packages: grpcio\n",
      "  Attempting uninstall: grpcio\n",
      "    Found existing installation: grpcio 1.44.0\n",
      "    Uninstalling grpcio-1.44.0:\n",
      "      Successfully uninstalled grpcio-1.44.0\n",
      "Successfully installed grpcio-1.24.3\n",
      "Collecting tensorflow==2.2.0\n",
      "  Downloading tensorflow-2.2.0-cp37-cp37m-manylinux2010_x86_64.whl (516.2 MB)\n",
      "\u001b[2K     \u001b[90m━━━━━━━━━━━━━━━━━━━━━━━━━━━━━━━━━━━━━\u001b[0m \u001b[32m516.2/516.2 MB\u001b[0m \u001b[31m902.3 kB/s\u001b[0m eta \u001b[36m0:00:00\u001b[0m00:01\u001b[0m00:01\u001b[0m\n",
      "\u001b[?25hCollecting astunparse==1.6.3\n",
      "  Downloading astunparse-1.6.3-py2.py3-none-any.whl (12 kB)\n",
      "Collecting h5py<2.11.0,>=2.10.0\n",
      "  Downloading h5py-2.10.0-cp37-cp37m-manylinux1_x86_64.whl (2.9 MB)\n",
      "\u001b[2K     \u001b[90m━━━━━━━━━━━━━━━━━━━━━━━━━━━━━━━━━━━━━━━━\u001b[0m \u001b[32m2.9/2.9 MB\u001b[0m \u001b[31m48.9 MB/s\u001b[0m eta \u001b[36m0:00:00\u001b[0ma \u001b[36m0:00:01\u001b[0m\n",
      "\u001b[?25hRequirement already satisfied: absl-py>=0.7.0 in /home/jupyterlab/conda/envs/python/lib/python3.7/site-packages (from tensorflow==2.2.0) (1.0.0)\n",
      "Requirement already satisfied: protobuf>=3.8.0 in /home/jupyterlab/conda/envs/python/lib/python3.7/site-packages (from tensorflow==2.2.0) (3.19.4)\n",
      "Requirement already satisfied: keras-preprocessing>=1.1.0 in /home/jupyterlab/conda/envs/python/lib/python3.7/site-packages (from tensorflow==2.2.0) (1.1.2)\n",
      "Requirement already satisfied: grpcio>=1.8.6 in /home/jupyterlab/conda/envs/python/lib/python3.7/site-packages (from tensorflow==2.2.0) (1.24.3)\n",
      "Requirement already satisfied: numpy<2.0,>=1.16.0 in /home/jupyterlab/conda/envs/python/lib/python3.7/site-packages (from tensorflow==2.2.0) (1.21.5)\n",
      "Collecting opt-einsum>=2.3.2\n",
      "  Downloading opt_einsum-3.3.0-py3-none-any.whl (65 kB)\n",
      "\u001b[2K     \u001b[90m━━━━━━━━━━━━━━━━━━━━━━━━━━━━━━━━━━━━━━━━\u001b[0m \u001b[32m65.5/65.5 KB\u001b[0m \u001b[31m10.4 MB/s\u001b[0m eta \u001b[36m0:00:00\u001b[0m\n",
      "\u001b[?25hCollecting scipy==1.4.1\n",
      "  Downloading scipy-1.4.1-cp37-cp37m-manylinux1_x86_64.whl (26.1 MB)\n",
      "\u001b[2K     \u001b[90m━━━━━━━━━━━━━━━━━━━━━━━━━━━━━━━━━━━━━━━━\u001b[0m \u001b[32m26.1/26.1 MB\u001b[0m \u001b[31m33.2 MB/s\u001b[0m eta \u001b[36m0:00:00\u001b[0m00:01\u001b[0m00:01\u001b[0m\n",
      "\u001b[?25hRequirement already satisfied: google-pasta>=0.1.8 in /home/jupyterlab/conda/envs/python/lib/python3.7/site-packages (from tensorflow==2.2.0) (0.2.0)\n",
      "Collecting gast==0.3.3\n",
      "  Downloading gast-0.3.3-py2.py3-none-any.whl (9.7 kB)\n",
      "Collecting tensorboard<2.3.0,>=2.2.0\n",
      "  Downloading tensorboard-2.2.2-py3-none-any.whl (3.0 MB)\n",
      "\u001b[2K     \u001b[90m━━━━━━━━━━━━━━━━━━━━━━━━━━━━━━━━━━━━━━━━\u001b[0m \u001b[32m3.0/3.0 MB\u001b[0m \u001b[31m51.2 MB/s\u001b[0m eta \u001b[36m0:00:00\u001b[0m00:01\u001b[0m\n",
      "\u001b[?25hRequirement already satisfied: wheel>=0.26 in /home/jupyterlab/conda/envs/python/lib/python3.7/site-packages (from tensorflow==2.2.0) (0.37.1)\n",
      "Collecting tensorflow-estimator<2.3.0,>=2.2.0\n",
      "  Downloading tensorflow_estimator-2.2.0-py2.py3-none-any.whl (454 kB)\n",
      "\u001b[2K     \u001b[90m━━━━━━━━━━━━━━━━━━━━━━━━━━━━━━━━━━━━━━\u001b[0m \u001b[32m454.6/454.6 KB\u001b[0m \u001b[31m41.6 MB/s\u001b[0m eta \u001b[36m0:00:00\u001b[0m\n",
      "\u001b[?25hRequirement already satisfied: wrapt>=1.11.1 in /home/jupyterlab/conda/envs/python/lib/python3.7/site-packages (from tensorflow==2.2.0) (1.13.3)\n",
      "Requirement already satisfied: six>=1.12.0 in /home/jupyterlab/conda/envs/python/lib/python3.7/site-packages (from tensorflow==2.2.0) (1.16.0)\n",
      "Requirement already satisfied: termcolor>=1.1.0 in /home/jupyterlab/conda/envs/python/lib/python3.7/site-packages (from tensorflow==2.2.0) (1.1.0)\n",
      "Collecting tensorboard-plugin-wit>=1.6.0\n",
      "  Downloading tensorboard_plugin_wit-1.8.1-py3-none-any.whl (781 kB)\n",
      "\u001b[2K     \u001b[90m━━━━━━━━━━━━━━━━━━━━━━━━━━━━━━━━━━━━━━\u001b[0m \u001b[32m781.3/781.3 KB\u001b[0m \u001b[31m45.2 MB/s\u001b[0m eta \u001b[36m0:00:00\u001b[0m\n",
      "\u001b[?25hCollecting google-auth-oauthlib<0.5,>=0.4.1\n",
      "  Downloading google_auth_oauthlib-0.4.6-py2.py3-none-any.whl (18 kB)\n",
      "Collecting google-auth<2,>=1.6.3\n",
      "  Using cached google_auth-1.35.0-py2.py3-none-any.whl (152 kB)\n",
      "Requirement already satisfied: markdown>=2.6.8 in /home/jupyterlab/conda/envs/python/lib/python3.7/site-packages (from tensorboard<2.3.0,>=2.2.0->tensorflow==2.2.0) (3.3.6)\n",
      "Requirement already satisfied: werkzeug>=0.11.15 in /home/jupyterlab/conda/envs/python/lib/python3.7/site-packages (from tensorboard<2.3.0,>=2.2.0->tensorflow==2.2.0) (2.0.3)\n",
      "Requirement already satisfied: setuptools>=41.0.0 in /home/jupyterlab/conda/envs/python/lib/python3.7/site-packages (from tensorboard<2.3.0,>=2.2.0->tensorflow==2.2.0) (60.9.3)\n",
      "Requirement already satisfied: requests<3,>=2.21.0 in /home/jupyterlab/conda/envs/python/lib/python3.7/site-packages (from tensorboard<2.3.0,>=2.2.0->tensorflow==2.2.0) (2.27.1)\n",
      "Collecting rsa<5,>=3.1.4\n",
      "  Using cached rsa-4.8-py3-none-any.whl (39 kB)\n",
      "Collecting cachetools<5.0,>=2.0.0\n",
      "  Using cached cachetools-4.2.4-py3-none-any.whl (10 kB)\n",
      "Requirement already satisfied: pyasn1-modules>=0.2.1 in /home/jupyterlab/conda/envs/python/lib/python3.7/site-packages (from google-auth<2,>=1.6.3->tensorboard<2.3.0,>=2.2.0->tensorflow==2.2.0) (0.2.8)\n",
      "Collecting requests-oauthlib>=0.7.0\n",
      "  Using cached requests_oauthlib-1.3.1-py2.py3-none-any.whl (23 kB)\n",
      "Requirement already satisfied: importlib-metadata>=4.4 in /home/jupyterlab/conda/envs/python/lib/python3.7/site-packages (from markdown>=2.6.8->tensorboard<2.3.0,>=2.2.0->tensorflow==2.2.0) (4.11.2)\n",
      "Requirement already satisfied: certifi>=2017.4.17 in /home/jupyterlab/conda/envs/python/lib/python3.7/site-packages (from requests<3,>=2.21.0->tensorboard<2.3.0,>=2.2.0->tensorflow==2.2.0) (2021.10.8)\n",
      "Requirement already satisfied: urllib3<1.27,>=1.21.1 in /home/jupyterlab/conda/envs/python/lib/python3.7/site-packages (from requests<3,>=2.21.0->tensorboard<2.3.0,>=2.2.0->tensorflow==2.2.0) (1.26.8)\n",
      "Requirement already satisfied: idna<4,>=2.5 in /home/jupyterlab/conda/envs/python/lib/python3.7/site-packages (from requests<3,>=2.21.0->tensorboard<2.3.0,>=2.2.0->tensorflow==2.2.0) (3.3)\n",
      "Requirement already satisfied: charset-normalizer~=2.0.0 in /home/jupyterlab/conda/envs/python/lib/python3.7/site-packages (from requests<3,>=2.21.0->tensorboard<2.3.0,>=2.2.0->tensorflow==2.2.0) (2.0.12)\n",
      "Requirement already satisfied: typing-extensions>=3.6.4 in /home/jupyterlab/conda/envs/python/lib/python3.7/site-packages (from importlib-metadata>=4.4->markdown>=2.6.8->tensorboard<2.3.0,>=2.2.0->tensorflow==2.2.0) (4.1.1)\n",
      "Requirement already satisfied: zipp>=0.5 in /home/jupyterlab/conda/envs/python/lib/python3.7/site-packages (from importlib-metadata>=4.4->markdown>=2.6.8->tensorboard<2.3.0,>=2.2.0->tensorflow==2.2.0) (3.7.0)\n",
      "Requirement already satisfied: pyasn1<0.5.0,>=0.4.6 in /home/jupyterlab/conda/envs/python/lib/python3.7/site-packages (from pyasn1-modules>=0.2.1->google-auth<2,>=1.6.3->tensorboard<2.3.0,>=2.2.0->tensorflow==2.2.0) (0.4.8)\n",
      "Collecting oauthlib>=3.0.0\n",
      "  Downloading oauthlib-3.2.0-py3-none-any.whl (151 kB)\n",
      "\u001b[2K     \u001b[90m━━━━━━━━━━━━━━━━━━━━━━━━━━━━━━━━━━━━━━\u001b[0m \u001b[32m151.5/151.5 KB\u001b[0m \u001b[31m20.5 MB/s\u001b[0m eta \u001b[36m0:00:00\u001b[0m\n",
      "\u001b[?25hInstalling collected packages: tensorflow-estimator, tensorboard-plugin-wit, scipy, rsa, opt-einsum, oauthlib, h5py, gast, cachetools, astunparse, requests-oauthlib, google-auth, google-auth-oauthlib, tensorboard, tensorflow\n",
      "  Attempting uninstall: tensorflow-estimator\n",
      "    Found existing installation: tensorflow-estimator 1.14.0\n",
      "    Uninstalling tensorflow-estimator-1.14.0:\n",
      "      Successfully uninstalled tensorflow-estimator-1.14.0\n",
      "  Attempting uninstall: scipy\n",
      "    Found existing installation: scipy 1.7.3\n",
      "    Uninstalling scipy-1.7.3:\n",
      "      Successfully uninstalled scipy-1.7.3\n",
      "  Attempting uninstall: h5py\n",
      "    Found existing installation: h5py 2.8.0\n",
      "    Uninstalling h5py-2.8.0:\n",
      "      Successfully uninstalled h5py-2.8.0\n",
      "  Attempting uninstall: gast\n",
      "    Found existing installation: gast 0.5.3\n",
      "    Uninstalling gast-0.5.3:\n",
      "      Successfully uninstalled gast-0.5.3\n",
      "  Attempting uninstall: tensorboard\n",
      "    Found existing installation: tensorboard 1.14.0\n",
      "    Uninstalling tensorboard-1.14.0:\n",
      "      Successfully uninstalled tensorboard-1.14.0\n",
      "  Attempting uninstall: tensorflow\n",
      "    Found existing installation: tensorflow 1.14.0\n",
      "    Uninstalling tensorflow-1.14.0:\n",
      "      Successfully uninstalled tensorflow-1.14.0\n",
      "Successfully installed astunparse-1.6.3 cachetools-4.2.4 gast-0.3.3 google-auth-1.35.0 google-auth-oauthlib-0.4.6 h5py-2.10.0 oauthlib-3.2.0 opt-einsum-3.3.0 requests-oauthlib-1.3.1 rsa-4.8 scipy-1.4.1 tensorboard-2.2.2 tensorboard-plugin-wit-1.8.1 tensorflow-2.2.0 tensorflow-estimator-2.2.0\n",
      "Requirement already satisfied: pillow==8.1.0 in /home/jupyterlab/conda/envs/python/lib/python3.7/site-packages (8.1.0)\n"
     ]
    }
   ],
   "source": [
    "!pip install grpcio==1.24.3\n",
    "!pip install tensorflow==2.2.0\n",
    "!pip install pillow==8.1.0"
   ]
  },
  {
   "cell_type": "markdown",
   "metadata": {},
   "source": [
    "<b>Notice:</b> This notebook has been created with TensorFlow version 2.2, and might not work with other versions. Therefore we check:\n"
   ]
  },
  {
   "cell_type": "code",
   "execution_count": 1,
   "metadata": {},
   "outputs": [],
   "source": [
    "import tensorflow as tf\n",
    "from IPython.display import Markdown, display\n",
    "\n",
    "def printmd(string):\n",
    "    display(Markdown('# <span style=\"color:red\">'+string+'</span>'))\n",
    "\n",
    "\n",
    "if not tf.__version__ == '2.2.0':\n",
    "    printmd('<<<<<!!!!! ERROR !!!! please upgrade to TensorFlow 2.2.0, or restart your Kernel (Kernel->Restart & Clear Output)>>>>>')"
   ]
  },
  {
   "cell_type": "markdown",
   "metadata": {},
   "source": [
    "Now, we load in all the packages that we use to create the net including the TensorFlow package:\n"
   ]
  },
  {
   "cell_type": "code",
   "execution_count": 2,
   "metadata": {},
   "outputs": [],
   "source": [
    "import tensorflow as tf\n",
    "import numpy as np\n",
    "\n",
    "from PIL import Image\n",
    "from utils import tile_raster_images\n",
    "import matplotlib.pyplot as plt\n",
    "%matplotlib inline"
   ]
  },
  {
   "cell_type": "markdown",
   "metadata": {},
   "source": [
    "<hr>\n"
   ]
  },
  {
   "cell_type": "markdown",
   "metadata": {},
   "source": [
    "<a id=\"ref2\"></a>\n",
    "\n",
    "<h3>RBM layers</h3>\n",
    "\n",
    "An RBM has two layers. The first layer of the RBM is called the <b>visible</b> (or input layer). Imagine that our toy example, has only vectors with 7 values, so the visible layer must have $V=7$ input nodes.\n",
    "The second layer is the <b>hidden</b> layer, which has $H$ neurons in our case. Each hidden node takes on values of either 0 or 1 (i.e., $h_i = 1$ or $h_i$ = 0), with a probability that is a logistic function of the inputs it receives from the other $V$ visible units, called for example, $p(h_i = 1)$. For our toy sample, we'll use 2 nodes in the hidden layer, so $H = 2$.\n",
    "\n",
    "<center><img src=\"https://ibm.box.com/shared/static/eu26opvcefgls6vnwuo29uwp0nudmokh.png\" alt=\"RBM Model\" style=\"width: 400px;\"></center>\n"
   ]
  },
  {
   "cell_type": "markdown",
   "metadata": {},
   "source": [
    "Each node in the first layer also has a <b>bias</b>. We will denote the bias as $v\\_{bias}$, and this single value is shared among the $V$ visible units.\n",
    "\n",
    "The <b>bias</b> of the second is defined similarly as $h\\_{bias}$, and this single value among the $H$ hidden units.\n"
   ]
  },
  {
   "cell_type": "code",
   "execution_count": 3,
   "metadata": {},
   "outputs": [
    {
     "name": "stderr",
     "output_type": "stream",
     "text": [
      "2022-04-15 19:26:10.909711: W tensorflow/stream_executor/platform/default/dso_loader.cc:55] Could not load dynamic library 'libcuda.so.1'; dlerror: libcuda.so.1: cannot open shared object file: No such file or directory\n",
      "2022-04-15 19:26:10.909779: E tensorflow/stream_executor/cuda/cuda_driver.cc:313] failed call to cuInit: UNKNOWN ERROR (303)\n",
      "2022-04-15 19:26:10.909822: I tensorflow/stream_executor/cuda/cuda_diagnostics.cc:156] kernel driver does not appear to be running on this host (jupyterlab-yofujimoto7): /proc/driver/nvidia/version does not exist\n",
      "2022-04-15 19:26:10.910216: I tensorflow/core/platform/cpu_feature_guard.cc:143] Your CPU supports instructions that this TensorFlow binary was not compiled to use: AVX2 FMA\n",
      "2022-04-15 19:26:10.920962: I tensorflow/core/platform/profile_utils/cpu_utils.cc:102] CPU Frequency: 2095145000 Hz\n",
      "2022-04-15 19:26:10.921648: I tensorflow/compiler/xla/service/service.cc:168] XLA service 0x7f6fa8000b20 initialized for platform Host (this does not guarantee that XLA will be used). Devices:\n",
      "2022-04-15 19:26:10.921683: I tensorflow/compiler/xla/service/service.cc:176]   StreamExecutor device (0): Host, Default Version\n"
     ]
    }
   ],
   "source": [
    "v_bias = tf.Variable(tf.zeros([7]), tf.float32)\n",
    "h_bias = tf.Variable(tf.zeros([2]), tf.float32)"
   ]
  },
  {
   "cell_type": "markdown",
   "metadata": {},
   "source": [
    "We have to define weights among the input layer and hidden layer nodes. In the weight matrix, the number of rows are equal to the input nodes, and the number of columns are equal to the output nodes. We define a tensor $\\mathbf{W}$ of shape = (7,2), where the number of visible neurons = 7, and the number of hidden neurons = 2.\n"
   ]
  },
  {
   "cell_type": "code",
   "execution_count": 4,
   "metadata": {},
   "outputs": [],
   "source": [
    "W = tf.constant(np.random.normal(loc=0.0, scale=1.0, size=(7, 2)).astype(np.float32))"
   ]
  },
  {
   "cell_type": "markdown",
   "metadata": {},
   "source": [
    "<hr>\n"
   ]
  },
  {
   "cell_type": "markdown",
   "metadata": {
    "tags": []
   },
   "source": [
    "<a id=\"ref3\"></a>\n",
    "\n",
    "<h3>What RBM can do after training?</h3>\n",
    "Think of RBM as a model that has been trained based on images of a dataset of many SUV and sedan cars. Also, imagine that the RBM network has only two hidden nodes, where one node encodes the weight and, and the other encodes the size.  \n",
    "In a sense, the different configurations represent different cars, where one is an SUV and the other is Sedan.  In a training process, through many forward and backward passes, the RBM adjust its weights to send a stronger signal to either the SUV node (0, 1) or the sedan node (1, 0) in the hidden layer, given the pixels of images. Now, given an SUV in hidden layer, which distribution of pixels should we expect? RBM can give you 2 things. First, it encodes your images in hidden layer. Second, it gives you the probability of observing a case, given some hidden values.\n",
    "\n",
    "<h3>The Inference Process</h3>\n",
    "\n",
    "RBM has two phases:\n",
    "\n",
    "<ul>\n",
    "    <li>Forward Pass</li>  \n",
    "    <li>Backward Pass or Reconstruction</li>\n",
    "</ul>\n",
    "\n",
    "<b>Phase 1) Forward pass:</b>\n",
    "\n",
    "Input one training sample (one image) $\\mathbf{x}$ through all visible nodes, and pass it to all hidden nodes. Processing happens in each node in the hidden layer. This computation begins by making stochastic decisions about whether to transmit that input or not (i.e. to determine the state of each hidden layer).  First, the probability vector is computed using the input feature vector $\\mathbf{x}$, the weight matrix $\\mathbf{W}$, and the bias term $h\\_{bias}$, as\n",
    "\n",
    "$$p({h_j}|\\mathbf x)= \\sigma( \\sum\\_{i=1}^V W\\_{ij} x_i + h\\_{bias} )$$,\n",
    "\n",
    "where $\\sigma(z) = (1+e^{-z})^{-1}$ is the logistic function.\n",
    "\n",
    "So, what does $p({h_j})$ represent? It is the <b>probability distribution</b> of the hidden units. That is, RBM uses inputs $x_i$ to make predictions about hidden node activations. For example, imagine that the hidden node activation values are \\[0.51 0.84] for the first training item. It tells you that the conditional probability for each hidden neuron for Phase 1 is:\n",
    "\n",
    "$$p(h\\_{1} = 1|\\mathbf{v}) = 0.51$$\n",
    "$$p(h\\_{2} = 1|\\mathbf{v}) = 0.84$$\n",
    "\n",
    "As a result, for each row in the training set, vector of probabilities is generated.  In TensorFlow, this is referred to as a `tensor` with a shape of (1,2).\n",
    "\n",
    "We then turn unit $j$ with probability $p(h\\_{j}|\\mathbf{v})$, and turn it off with probability $1 - p(h\\_{j}|\\mathbf{v})$ by generating a uniform random number vector $\\mathbf{\\xi}$, and comparing it to the activation probability as\n",
    "\n",
    "<center>If $\\xi_j>p(h_{j}|\\mathbf{v})$, then $h_j=1$, else $h_j=0$.</center>\n",
    "\n",
    "Therefore, the conditional probability of a configuration of $\\mathbf{h}$ given $\\mathbf{v}$ (for a training sample) is:\n",
    "\n",
    "$$p(\\mathbf{h} \\mid \\mathbf{v}) = \\prod\\_{j=1}^H p(h_j \\mid \\mathbf{v})$$\n",
    "\n",
    "where $H$ is the number of hidden units.\n"
   ]
  },
  {
   "cell_type": "markdown",
   "metadata": {},
   "source": [
    "Before we go further, let's look at a toy example for one case out of all input. Assume that we have a trained RBM, and a very simple input vector, such as \\[1.0, 0.0, 0.0, 1.0, 0.0, 0.0, 0.0].\\\n",
    "Let's see what the output of forward pass would look like:\n"
   ]
  },
  {
   "cell_type": "code",
   "execution_count": 5,
   "metadata": {},
   "outputs": [
    {
     "name": "stdout",
     "output_type": "stream",
     "text": [
      "Input:  tf.Tensor([[1. 0. 0. 1. 0. 0. 0.]], shape=(1, 7), dtype=float32)\n",
      "hb:  tf.Tensor([0.1 0.1], shape=(2,), dtype=float32)\n",
      "w:  tf.Tensor(\n",
      "[[ 0.2818195  -1.3821428 ]\n",
      " [-0.6664335  -3.0197456 ]\n",
      " [ 1.7948523  -0.14040275]\n",
      " [ 0.73394024  0.00929398]\n",
      " [ 0.3992147  -0.04033959]\n",
      " [ 0.3252842   0.06310769]\n",
      " [ 0.844423    0.03222012]], shape=(7, 2), dtype=float32)\n",
      "p(h|v):  tf.Tensor([[0.7532013 0.21877  ]], shape=(1, 2), dtype=float32)\n",
      "h0 states: tf.Tensor([[0. 0.]], shape=(1, 2), dtype=float32)\n"
     ]
    }
   ],
   "source": [
    "X = tf.constant([[1.0, 0.0, 0.0, 1.0, 0.0, 0.0, 0.0]], tf.float32)\n",
    "\n",
    "v_state = X\n",
    "print (\"Input: \", v_state)\n",
    "\n",
    "h_bias = tf.constant([0.1, 0.1])\n",
    "print (\"hb: \", h_bias)\n",
    "print (\"w: \", W)\n",
    "\n",
    "# Calculate the probabilities of turning the hidden units on:\n",
    "h_prob = tf.nn.sigmoid(tf.matmul(v_state, W) + h_bias)  #probabilities of the hidden units\n",
    "print (\"p(h|v): \", h_prob)\n",
    "\n",
    "# Draw samples from the distribution:\n",
    "h_state = tf.nn.relu(tf.sign(h_prob - tf.random.uniform(tf.shape(h_prob)))) #states\n",
    "print (\"h0 states:\", h_state)"
   ]
  },
  {
   "cell_type": "markdown",
   "metadata": {},
   "source": [
    "<b>Phase 2) Backward Pass (Reconstruction):</b>\n",
    "The RBM reconstructs data by making several forward and backward passes between the visible and hidden layers.\n",
    "\n",
    "So, in the second phase (i.e. reconstruction phase), the samples from the hidden layer (i.e. $\\mathbf h$) becomes the input in the backward pass. The same weight matrix and visible layer biases are used to passed to the sigmoid function. The reproduced output is a reconstruction which is an approximation of the original input.\n"
   ]
  },
  {
   "cell_type": "code",
   "execution_count": 6,
   "metadata": {},
   "outputs": [
    {
     "name": "stdout",
     "output_type": "stream",
     "text": [
      "b:  tf.Tensor([0.1 0.2 0.1 0.1 0.1 0.2 0.1], shape=(7,), dtype=float32)\n",
      "p(vi∣h):  tf.Tensor(\n",
      "[[0.5249792  0.54983395 0.5249792  0.5249792  0.5249792  0.54983395\n",
      "  0.5249792 ]], shape=(1, 7), dtype=float32)\n",
      "v probability states:  tf.Tensor([[1. 1. 0. 1. 1. 0. 1.]], shape=(1, 7), dtype=float32)\n"
     ]
    }
   ],
   "source": [
    "vb = tf.constant([0.1, 0.2, 0.1, 0.1, 0.1, 0.2, 0.1])\n",
    "print (\"b: \", vb)\n",
    "v_prob = tf.nn.sigmoid(tf.matmul(h_state, tf.transpose(W)) + vb)\n",
    "print (\"p(vi∣h): \", v_prob)\n",
    "v_state = tf.nn.relu(tf.sign(v_prob - tf.random.uniform(tf.shape(v_prob))))\n",
    "print (\"v probability states: \", v_state)"
   ]
  },
  {
   "cell_type": "markdown",
   "metadata": {},
   "source": [
    "RBM learns a probability distribution over the input, and then, after being trained, the RBM can generate new samples from the learned probability distribution. As you know, <b>probability distribution</b>, is a mathematical function that provides the probabilities of occurrence of different possible outcomes in an experiment.\n",
    "\n",
    "The (conditional) probability distribution over the visible units v is given by\n",
    "\n",
    "$$p(\\mathbf{v} \\mid \\mathbf{h}) = \\prod\\_{i=1}^V p(v_i \\mid \\mathbf{h}),$$\n",
    "\n",
    "where,\n",
    "\n",
    "$$p(v_i \\mid \\mathbf{h}) = \\sigma\\left(\\sum\\_{j=1}^H W\\_{ji} h_j + v\\_{bias} \\right)$$\n",
    "\n",
    "so, given current state of hidden units and weights, what is the probability of generating \\[1. 0. 0. 1. 0. 0. 0.] in reconstruction phase, based on the above <b>probability distribution</b> function?\n"
   ]
  },
  {
   "cell_type": "code",
   "execution_count": 7,
   "metadata": {},
   "outputs": [
    {
     "name": "stdout",
     "output_type": "stream",
     "text": [
      "input X: [[1. 0. 0. 1. 0. 0. 0.]]\n",
      "probablity vector: [0.5249792  0.54983395 0.5249792  0.5249792  0.5249792  0.54983395\n",
      " 0.5249792 ]\n",
      "probability of generating X:  0.0059864256\n"
     ]
    }
   ],
   "source": [
    "inp = X\n",
    "print(\"input X:\" , inp.numpy())\n",
    "\n",
    "print(\"probablity vector:\" , v_prob[0].numpy())\n",
    "v_probability = 1\n",
    "\n",
    "for elm, p in zip(inp[0],v_prob[0]) :\n",
    "    if elm ==1:\n",
    "        v_probability *= p\n",
    "    else:\n",
    "        v_probability *= (1-p)\n",
    "\n",
    "print(\"probability of generating X: \" , v_probability.numpy())"
   ]
  },
  {
   "cell_type": "markdown",
   "metadata": {},
   "source": [
    "How similar are vectors $\\mathbf{x}$ and $\\mathbf{v}$? Of course, the reconstructed values most likely will not look anything like the input vector, because our network has not been trained yet. Our objective is to train the model in such a way that the input vector and reconstructed vector to be same. Therefore, based on how different the input values look to the ones that we just reconstructed, the weights are adjusted.\n"
   ]
  },
  {
   "cell_type": "markdown",
   "metadata": {},
   "source": [
    "<hr>\n"
   ]
  },
  {
   "cell_type": "markdown",
   "metadata": {},
   "source": [
    "<h2>MNIST</h2>\n"
   ]
  },
  {
   "cell_type": "markdown",
   "metadata": {},
   "source": [
    "We will be using the MNIST dataset to practice the usage of RBMs. The following cell loads the MNIST dataset.\n"
   ]
  },
  {
   "cell_type": "code",
   "execution_count": 8,
   "metadata": {},
   "outputs": [
    {
     "name": "stdout",
     "output_type": "stream",
     "text": [
      "Downloading data from https://storage.googleapis.com/tensorflow/tf-keras-datasets/mnist.npz\n",
      "11493376/11490434 [==============================] - 0s 0us/step\n"
     ]
    }
   ],
   "source": [
    "#loading training and test data\n",
    "mnist = tf.keras.datasets.mnist\n",
    "(trX, trY), (teX, teY) = mnist.load_data()\n",
    "\n",
    "# showing an example of the Flatten class and operation\n",
    "from tensorflow.keras.layers import Flatten\n",
    "flatten = Flatten(dtype='float32')\n",
    "trX = flatten(trX/255.0)\n",
    "trY = flatten(trY/255.0)"
   ]
  },
  {
   "cell_type": "markdown",
   "metadata": {},
   "source": [
    "Lets look at the dimension of the images.\n"
   ]
  },
  {
   "cell_type": "markdown",
   "metadata": {},
   "source": [
    "MNIST images have 784 pixels, so the visible layer must have 784 input nodes.  For our case, we'll use 50 nodes in the hidden layer, so i = 50.\n"
   ]
  },
  {
   "cell_type": "code",
   "execution_count": 9,
   "metadata": {
    "tags": []
   },
   "outputs": [],
   "source": [
    "vb = tf.Variable(tf.zeros([784]), tf.float32)\n",
    "hb = tf.Variable(tf.zeros([50]), tf.float32)"
   ]
  },
  {
   "cell_type": "markdown",
   "metadata": {},
   "source": [
    "Let $\\mathbf W$ be the Tensor of 784x50 (784 - number of visible neurons, 50 - number of hidden neurons) that represents weights between the neurons.\n"
   ]
  },
  {
   "cell_type": "code",
   "execution_count": 10,
   "metadata": {
    "tags": []
   },
   "outputs": [],
   "source": [
    "W = tf.Variable(tf.zeros([784,50]), tf.float32)"
   ]
  },
  {
   "cell_type": "markdown",
   "metadata": {},
   "source": [
    "Lets define the visible layer:\n"
   ]
  },
  {
   "cell_type": "code",
   "execution_count": 11,
   "metadata": {},
   "outputs": [
    {
     "data": {
      "text/plain": [
       "<tf.Tensor: shape=(1, 50), dtype=float32, numpy=\n",
       "array([[0., 0., 0., 0., 0., 0., 0., 0., 0., 0., 0., 0., 0., 0., 0., 0.,\n",
       "        0., 0., 0., 0., 0., 0., 0., 0., 0., 0., 0., 0., 0., 0., 0., 0.,\n",
       "        0., 0., 0., 0., 0., 0., 0., 0., 0., 0., 0., 0., 0., 0., 0., 0.,\n",
       "        0., 0.]], dtype=float32)>"
      ]
     },
     "execution_count": 11,
     "metadata": {},
     "output_type": "execute_result"
    }
   ],
   "source": [
    "v0_state = tf.Variable(tf.zeros([784]), tf.float32)\n",
    "\n",
    "#testing to see if the matrix product works\n",
    "tf.matmul( [v0_state], W)"
   ]
  },
  {
   "cell_type": "markdown",
   "metadata": {},
   "source": [
    "Now, we can define hidden layer:\n"
   ]
  },
  {
   "cell_type": "code",
   "execution_count": 12,
   "metadata": {},
   "outputs": [
    {
     "name": "stdout",
     "output_type": "stream",
     "text": [
      "h0_state shape:  tf.Tensor([ 1 50], shape=(2,), dtype=int32)\n",
      "first 15 hidden states:  tf.Tensor([0. 1. 0. 1. 0. 1. 1. 1. 0. 1. 1. 1. 1. 1. 0.], shape=(15,), dtype=float32)\n"
     ]
    }
   ],
   "source": [
    "#computing the hidden nodes probability vector and checking shape\n",
    "h0_prob = tf.nn.sigmoid(tf.matmul([v0_state], W) + hb)  #probabilities of the hidden units\n",
    "print(\"h0_state shape: \" , tf.shape(h0_prob))\n",
    "\n",
    "#defining a function to return only the generated hidden states \n",
    "def hidden_layer(v0_state, W, hb):\n",
    "    h0_prob = tf.nn.sigmoid(tf.matmul([v0_state], W) + hb)  #probabilities of the hidden units\n",
    "    h0_state = tf.nn.relu(tf.sign(h0_prob - tf.random.uniform(tf.shape(h0_prob)))) #sample_h_given_X\n",
    "    return h0_state\n",
    "\n",
    "\n",
    "h0_state = hidden_layer(v0_state, W, hb)\n",
    "print(\"first 15 hidden states: \", h0_state[0][0:15])"
   ]
  },
  {
   "cell_type": "markdown",
   "metadata": {},
   "source": [
    "Now, we define reconstruction part:\n"
   ]
  },
  {
   "cell_type": "code",
   "execution_count": 13,
   "metadata": {},
   "outputs": [
    {
     "name": "stdout",
     "output_type": "stream",
     "text": [
      "hidden state shape:  (1, 50)\n",
      "v0 state shape:   (784,)\n",
      "v1 state shape:   (784,)\n"
     ]
    }
   ],
   "source": [
    "def reconstructed_output(h0_state, W, vb):\n",
    "    v1_prob = tf.nn.sigmoid(tf.matmul(h0_state, tf.transpose(W)) + vb) \n",
    "    v1_state = tf.nn.relu(tf.sign(v1_prob - tf.random.uniform(tf.shape(v1_prob)))) #sample_v_given_h\n",
    "    return v1_state[0]\n",
    "\n",
    "v1_state = reconstructed_output(h0_state, W, vb)\n",
    "print(\"hidden state shape: \", h0_state.shape)\n",
    "print(\"v0 state shape:  \", v0_state.shape)\n",
    "print(\"v1 state shape:  \", v1_state.shape)"
   ]
  },
  {
   "cell_type": "markdown",
   "metadata": {},
   "source": [
    "<h3>What is the objective function?</h3>\n",
    "\n",
    "<b>Goal</b>: Maximize the likelihood of our data being drawn from that distribution\n",
    "\n",
    "<b>Calculate error:</b>\\\n",
    "In each epoch, we compute the \"error\" as a sum of the squared difference between step 1 and step n,\n",
    "e.g the error shows the difference between the data and its reconstruction.\n",
    "\n",
    "<b>Note:</b> tf.reduce_mean computes the mean of elements across dimensions of a tensor.\n"
   ]
  },
  {
   "cell_type": "code",
   "execution_count": 14,
   "metadata": {},
   "outputs": [
    {
     "name": "stdout",
     "output_type": "stream",
     "text": [
      "error 0.5153061\n"
     ]
    }
   ],
   "source": [
    "def error(v0_state, v1_state):\n",
    "    return tf.reduce_mean(tf.square(v0_state - v1_state))\n",
    "\n",
    "err = tf.reduce_mean(tf.square(v0_state - v1_state))\n",
    "print(\"error\" , err.numpy())"
   ]
  },
  {
   "cell_type": "markdown",
   "metadata": {},
   "source": [
    "<a id=\"ref4\"></a>\n",
    "\n",
    "<h3>Training the Model</h3>\n",
    "<b>Warning...</b> The following part is math-heavy, but you can skip it if you just want to run the cells in the next section.\n",
    "\n",
    "As mentioned, we want to give a high probability to the input data we train on. So, in order to train an RBM, we have to maximize the product of probabilities assigned to all rows $\\mathbf{v}$ (images) in the training set $\\mathbf{V}$ (a matrix, where each row of it is treated as a visible vector $\\mathbf{v}$)\n",
    "\n",
    "$$\\arg \\max_W \\prod\\_{\\mathbf{v}\\in\\mathbf{V}\\_T} p(\\mathbf{v})$$\n",
    "\n",
    "which is equivalent to maximizing the expectation of the log probability, given as\n",
    "\n",
    "$$\\arg\\max_W\\left\\[ \\mathbb{E} \\left(\\prod\\_{\\mathbf v\\in \\mathbf V}\\text{log} \\left(p(\\mathbf v)\\right) \\right) \\right].$$\n",
    "\n",
    "So, we have to update the weights $W\\_{ij}$  to increase $p(\\mathbf{v})$ for all $\\mathbf{v}$ in our training data during training. So we have to calculate the derivative:\n",
    "\n",
    "$$\\frac{\\partial \\log p(\\mathbf v)}{\\partial W\\_{ij}}$$\n",
    "\n",
    "This cannot be easily done by typical <b>gradient descent (SGD)</b>, so we can use another approach, which has 2 steps:\n",
    "\n",
    "<ol>\n",
    "    <li>Gibbs Sampling</li>\n",
    "    <li>Contrastive Divergence</li>\n",
    "</ol>    \n",
    "\n",
    "<h3>Gibbs Sampling</h3>   \n",
    "\n",
    "<h4>Gibbs Sampling Step 1</h4> \n",
    "Given an input vector $\\mathbf{v}$, we are using $p(\\mathbf{h}|\\mathbf{v})$ to predict the hidden values $\\mathbf{h}$. \n",
    "  $$p({h_j}|\\mathbf v)= \\sigma\\left(\\sum_{i=1}^V W_{ij} v_i + h_{bias} \\right)$$\n",
    "The samples are generated from this distribution by generating the uniform random variate vector $\\mathbf{\\xi} \\sim U[0,1]$ of length $H$ and comparing to the computed probabilities as\n",
    "\n",
    "<center>If $\\xi_j>p(h_{j}|\\mathbf{v})$, then $h_j=1$, else $h_j=0$.</center>\n",
    "\n",
    "<h4>Gibbs Sampling Step 2</h4> \n",
    "Then, knowing the hidden values, we use $p(\\mathbf v| \\mathbf h)$ for reconstructing of new input values v. \n",
    "\n",
    "$$p({v_i}|\\mathbf h)= \\sigma\\left(\\sum\\_{j=1}^H W^{T}*{ij} h_j + v*{bias} \\right)$$\n",
    "\n",
    "The samples are generated from this distribution by generating a uniform random variate vector $\\mathbf{\\xi} \\sim U\\[0,1]$ of length $V$ and comparing to the computed probabilities as\n",
    "\n",
    "<center>If $\\xi_i>p(v_{i}|\\mathbf{h})$, then $v_i=1$, else $v_i=0$.</center>\n",
    "\n",
    "Let vectors $\\mathbf v_k$ and $\\mathbf h_k$ be for the $k$th iteration.  In general, the $kth$ state is generrated as:\n",
    "\n",
    "<b>Iteration</b> $k$:\n",
    "\n",
    "$$\\mathbf v\\_{k-1} \\Rightarrow p(\\mathbf h\\_{k-1}|\\mathbf v\\_{k-1})\\Rightarrow \\mathbf h\\_{k-1}\\Rightarrow p(\\mathbf v\\_{k}|\\mathbf h\\_{k-1})\\Rightarrow \\mathbf v_k$$\n",
    "\n",
    "<h3>Contrastive Divergence (CD-k)</h3>\n",
    "The update of the weight matrix is done during the Contrastive Divergence step. \n",
    "\n",
    "Vectors v0 and vk are used to calculate the activation probabilities for hidden values h0 and hk. The difference between the outer products of those probabilities with input vectors v0 and vk results in the update matrix:\n",
    "\n",
    "$$\\Delta \\mathbf W_k =\\mathbf v_k \\otimes \\mathbf h_k - \\mathbf v\\_{k-1} \\otimes \\mathbf h\\_{k-1}$$\n",
    "\n",
    "Contrastive Divergence is actually matrix of values that is computed and used to adjust values of the $\\mathbf W$ matrix. Changing $\\mathbf W$ incrementally leads to training of the  $\\mathbf W$ values. Then, on each step (epoch), $\\mathbf W$ is updated using the following:\n",
    "\n",
    "$$\\mathbf W_k = \\mathbf W\\_{k-1} + \\alpha \\* \\Delta \\mathbf W_k$$\n",
    "\n",
    "Reconstruction steps:\n",
    "\n",
    "<ul>\n",
    "    <li> Get one data point from data set, like <i>x</i>, and pass it through the following steps:</li>\n",
    "\n",
    "<b>Iteration</b> $k=1$:\n",
    "\n",
    "Sampling (starting with input image)\n",
    "$$\\mathbf x = \\mathbf v\\_0 \\Rightarrow p(\\mathbf h\\_0|\\mathbf v\\_0)\\Rightarrow \\mathbf h\\_0 \\Rightarrow p(\\mathbf v\\_1|\\mathbf h\\_0)\\Rightarrow \\mathbf v\\_1$$\\\n",
    "followed by the CD-k step\n",
    "$$\\Delta \\mathbf W\\_1 =\\mathbf v\\_1 \\otimes \\mathbf h\\_1 - \\mathbf v\\_{0} \\otimes \\mathbf h\\_{0}$$\\\n",
    "$$\\mathbf W\\_1 = \\mathbf W\\_{0} + \\alpha \\* \\Delta \\mathbf W\\_1$$\n",
    "\n",
    "<li> $\\mathbf v_1$ is the reconstruction of $\\mathbf x$ sent to the next iteration).</li>\n",
    "\n",
    "<b>Iteration</b> $k=2$:\n",
    "\n",
    "Sampling (starting with $\\mathbf v\\_1$)\n",
    "\n",
    "$$\\mathbf v\\_1 \\Rightarrow p(\\mathbf h\\_1|\\mathbf v\\_1)\\Rightarrow \\mathbf h\\_1\\Rightarrow p(\\mathbf v\\_2|\\mathbf h\\_1)\\Rightarrow \\mathbf v\\_2$$\n",
    "\n",
    "followed by the CD-k step\n",
    "$$\\Delta \\mathbf W\\_2 =\\mathbf v\\_2 \\otimes \\mathbf h\\_2 - \\mathbf v\\_{1} \\otimes \\mathbf h\\_{1}$$\\\n",
    "$$\\mathbf W\\_2 = \\mathbf W\\_{1} + \\alpha \\* \\Delta \\mathbf W\\_2$$\n",
    "\n",
    "<li> $\\mathbf v_2$ is the reconstruction of $\\mathbf v_1$ sent to the next iteration).</li>    \n",
    "\n",
    "<b>Iteration</b> $k=K$:\n",
    "\n",
    "Sampling (starting with $\\mathbf v\\_{K-1}$)\n",
    "\n",
    "$$\\mathbf v\\_{K-1} \\Rightarrow p(\\mathbf h\\_{K-1}|\\mathbf v\\_{K-1})\\Rightarrow \\mathbf h\\_{K-1}\\Rightarrow p(\\mathbf v_K|\\mathbf h\\_{K-1})\\Rightarrow \\mathbf v_K$$\n",
    "\n",
    "followed by the CD-k step\n",
    "$$\\Delta \\mathbf W_K =\\mathbf v_K \\otimes \\mathbf h_K - \\mathbf v\\_{K-1} \\otimes \\mathbf h\\_{K-1}$$\\\n",
    "$$\\mathbf W_K = \\mathbf W\\_{K-1} + \\alpha \\* \\Delta \\mathbf W_K$$\n",
    "\n",
    "<b>What is $\\alpha$?</b>\\\n",
    "Here, alpha is some small step size, and is also known as the \"learning rate\".\n"
   ]
  },
  {
   "cell_type": "markdown",
   "metadata": {},
   "source": [
    "$K$ is adjustable, and good performance can be achieved with $K=1$, so that we just take one set of sampling steps per image.\n"
   ]
  },
  {
   "cell_type": "code",
   "execution_count": 15,
   "metadata": {},
   "outputs": [],
   "source": [
    "h1_prob = tf.nn.sigmoid(tf.matmul([v1_state], W) + hb)\n",
    "h1_state = tf.nn.relu(tf.sign(h1_prob - tf.random.uniform(tf.shape(h1_prob)))) #sample_h_given_X"
   ]
  },
  {
   "cell_type": "markdown",
   "metadata": {},
   "source": [
    "Lets look at the error of the first run:\n"
   ]
  },
  {
   "cell_type": "code",
   "execution_count": 16,
   "metadata": {},
   "outputs": [
    {
     "name": "stdout",
     "output_type": "stream",
     "text": [
      "error:  tf.Tensor(0.5153061, shape=(), dtype=float32)\n"
     ]
    }
   ],
   "source": [
    "print(\"error: \", error(v0_state, v1_state))"
   ]
  },
  {
   "cell_type": "code",
   "execution_count": 17,
   "metadata": {},
   "outputs": [
    {
     "name": "stdout",
     "output_type": "stream",
     "text": [
      "Epoch: 0 batch #: 1  of 300 sample #: 199 reconstruction error: 0.204049\n",
      "Epoch: 0 batch #: 2  of 300 sample #: 199 reconstruction error: 0.217440\n",
      "Epoch: 0 batch #: 3  of 300 sample #: 199 reconstruction error: 0.138672\n",
      "Epoch: 0 batch #: 4  of 300 sample #: 199 reconstruction error: 0.126377\n",
      "Epoch: 0 batch #: 5  of 300 sample #: 199 reconstruction error: 0.097387\n",
      "Epoch: 0 batch #: 6  of 300 sample #: 199 reconstruction error: 0.178696\n",
      "Epoch: 0 batch #: 7  of 300 sample #: 199 reconstruction error: 0.079610\n",
      "Epoch: 0 batch #: 8  of 300 sample #: 199 reconstruction error: 0.124601\n",
      "Epoch: 0 batch #: 9  of 300 sample #: 199 reconstruction error: 0.095760\n",
      "Epoch: 0 batch #: 10  of 300 sample #: 199 reconstruction error: 0.166567\n",
      "Epoch: 0 batch #: 11  of 300 sample #: 199 reconstruction error: 0.091201\n",
      "Epoch: 0 batch #: 12  of 300 sample #: 199 reconstruction error: 0.129948\n",
      "Epoch: 0 batch #: 13  of 300 sample #: 199 reconstruction error: 0.056991\n",
      "Epoch: 0 batch #: 14  of 300 sample #: 199 reconstruction error: 0.107354\n",
      "Epoch: 0 batch #: 15  of 300 sample #: 199 reconstruction error: 0.100996\n",
      "Epoch: 0 batch #: 16  of 300 sample #: 199 reconstruction error: 0.104191\n",
      "Epoch: 0 batch #: 17  of 300 sample #: 199 reconstruction error: 0.077158\n",
      "Epoch: 0 batch #: 18  of 300 sample #: 199 reconstruction error: 0.125012\n",
      "Epoch: 0 batch #: 19  of 300 sample #: 199 reconstruction error: 0.150340\n",
      "Epoch: 0 batch #: 20  of 300 sample #: 199 reconstruction error: 0.110314\n",
      "Epoch: 0 batch #: 21  of 300 sample #: 199 reconstruction error: 0.092790\n",
      "Epoch: 0 batch #: 22  of 300 sample #: 199 reconstruction error: 0.079585\n",
      "Epoch: 0 batch #: 23  of 300 sample #: 199 reconstruction error: 0.124215\n",
      "Epoch: 0 batch #: 24  of 300 sample #: 199 reconstruction error: 0.118847\n",
      "Epoch: 0 batch #: 25  of 300 sample #: 199 reconstruction error: 0.083558\n",
      "Epoch: 0 batch #: 26  of 300 sample #: 199 reconstruction error: 0.100092\n",
      "Epoch: 0 batch #: 27  of 300 sample #: 199 reconstruction error: 0.121463\n",
      "Epoch: 0 batch #: 28  of 300 sample #: 199 reconstruction error: 0.092519\n",
      "Epoch: 0 batch #: 29  of 300 sample #: 199 reconstruction error: 0.097664\n",
      "Epoch: 0 batch #: 30  of 300 sample #: 199 reconstruction error: 0.080995\n",
      "Epoch: 0 batch #: 31  of 300 sample #: 199 reconstruction error: 0.093729\n",
      "Epoch: 0 batch #: 32  of 300 sample #: 199 reconstruction error: 0.106199\n",
      "Epoch: 0 batch #: 33  of 300 sample #: 199 reconstruction error: 0.061208\n",
      "Epoch: 0 batch #: 34  of 300 sample #: 199 reconstruction error: 0.075525\n",
      "Epoch: 0 batch #: 35  of 300 sample #: 199 reconstruction error: 0.066897\n",
      "Epoch: 0 batch #: 36  of 300 sample #: 199 reconstruction error: 0.077216\n",
      "Epoch: 0 batch #: 37  of 300 sample #: 199 reconstruction error: 0.055170\n",
      "Epoch: 0 batch #: 38  of 300 sample #: 199 reconstruction error: 0.056477\n",
      "Epoch: 0 batch #: 39  of 300 sample #: 199 reconstruction error: 0.099275\n",
      "Epoch: 0 batch #: 40  of 300 sample #: 199 reconstruction error: 0.108843\n",
      "Epoch: 0 batch #: 41  of 300 sample #: 199 reconstruction error: 0.057325\n",
      "Epoch: 0 batch #: 42  of 300 sample #: 199 reconstruction error: 0.059327\n",
      "Epoch: 0 batch #: 43  of 300 sample #: 199 reconstruction error: 0.134112\n",
      "Epoch: 0 batch #: 44  of 300 sample #: 199 reconstruction error: 0.059760\n",
      "Epoch: 0 batch #: 45  of 300 sample #: 199 reconstruction error: 0.058681\n",
      "Epoch: 0 batch #: 46  of 300 sample #: 199 reconstruction error: 0.028780\n",
      "Epoch: 0 batch #: 47  of 300 sample #: 199 reconstruction error: 0.042941\n",
      "Epoch: 0 batch #: 48  of 300 sample #: 199 reconstruction error: 0.033099\n",
      "Epoch: 0 batch #: 49  of 300 sample #: 199 reconstruction error: 0.127194\n",
      "Epoch: 0 batch #: 50  of 300 sample #: 199 reconstruction error: 0.051523\n",
      "Epoch: 0 batch #: 51  of 300 sample #: 199 reconstruction error: 0.056378\n",
      "Epoch: 0 batch #: 52  of 300 sample #: 199 reconstruction error: 0.036671\n",
      "Epoch: 0 batch #: 53  of 300 sample #: 199 reconstruction error: 0.092972\n",
      "Epoch: 0 batch #: 54  of 300 sample #: 199 reconstruction error: 0.056036\n",
      "Epoch: 0 batch #: 55  of 300 sample #: 199 reconstruction error: 0.110145\n",
      "Epoch: 0 batch #: 56  of 300 sample #: 199 reconstruction error: 0.064504\n",
      "Epoch: 0 batch #: 57  of 300 sample #: 199 reconstruction error: 0.055798\n",
      "Epoch: 0 batch #: 58  of 300 sample #: 199 reconstruction error: 0.077783\n",
      "Epoch: 0 batch #: 59  of 300 sample #: 199 reconstruction error: 0.054395\n",
      "Epoch: 0 batch #: 60  of 300 sample #: 199 reconstruction error: 0.088582\n",
      "Epoch: 0 batch #: 61  of 300 sample #: 199 reconstruction error: 0.080122\n",
      "Epoch: 0 batch #: 62  of 300 sample #: 199 reconstruction error: 0.066358\n",
      "Epoch: 0 batch #: 63  of 300 sample #: 199 reconstruction error: 0.071112\n",
      "Epoch: 0 batch #: 64  of 300 sample #: 199 reconstruction error: 0.091020\n",
      "Epoch: 0 batch #: 65  of 300 sample #: 199 reconstruction error: 0.083864\n",
      "Epoch: 0 batch #: 66  of 300 sample #: 199 reconstruction error: 0.048836\n",
      "Epoch: 0 batch #: 67  of 300 sample #: 199 reconstruction error: 0.052326\n",
      "Epoch: 0 batch #: 68  of 300 sample #: 199 reconstruction error: 0.062793\n",
      "Epoch: 0 batch #: 69  of 300 sample #: 199 reconstruction error: 0.086589\n",
      "Epoch: 0 batch #: 70  of 300 sample #: 199 reconstruction error: 0.084624\n",
      "Epoch: 0 batch #: 71  of 300 sample #: 199 reconstruction error: 0.082753\n",
      "Epoch: 0 batch #: 72  of 300 sample #: 199 reconstruction error: 0.070594\n",
      "Epoch: 0 batch #: 73  of 300 sample #: 199 reconstruction error: 0.088874\n",
      "Epoch: 0 batch #: 74  of 300 sample #: 199 reconstruction error: 0.082904\n",
      "Epoch: 0 batch #: 75  of 300 sample #: 199 reconstruction error: 0.059202\n",
      "Epoch: 0 batch #: 76  of 300 sample #: 199 reconstruction error: 0.075785\n",
      "Epoch: 0 batch #: 77  of 300 sample #: 199 reconstruction error: 0.105421\n",
      "Epoch: 0 batch #: 78  of 300 sample #: 199 reconstruction error: 0.116649\n",
      "Epoch: 0 batch #: 79  of 300 sample #: 199 reconstruction error: 0.105976\n",
      "Epoch: 0 batch #: 80  of 300 sample #: 199 reconstruction error: 0.043321\n",
      "Epoch: 0 batch #: 81  of 300 sample #: 199 reconstruction error: 0.058497\n",
      "Epoch: 0 batch #: 82  of 300 sample #: 199 reconstruction error: 0.053085\n",
      "Epoch: 0 batch #: 83  of 300 sample #: 199 reconstruction error: 0.072818\n",
      "Epoch: 0 batch #: 84  of 300 sample #: 199 reconstruction error: 0.074446\n",
      "Epoch: 0 batch #: 85  of 300 sample #: 199 reconstruction error: 0.049345\n",
      "Epoch: 0 batch #: 86  of 300 sample #: 199 reconstruction error: 0.086659\n",
      "Epoch: 0 batch #: 87  of 300 sample #: 199 reconstruction error: 0.089356\n",
      "Epoch: 0 batch #: 88  of 300 sample #: 199 reconstruction error: 0.025531\n",
      "Epoch: 0 batch #: 89  of 300 sample #: 199 reconstruction error: 0.072824\n",
      "Epoch: 0 batch #: 90  of 300 sample #: 199 reconstruction error: 0.056552\n",
      "Epoch: 0 batch #: 91  of 300 sample #: 199 reconstruction error: 0.067979\n",
      "Epoch: 0 batch #: 92  of 300 sample #: 199 reconstruction error: 0.061687\n",
      "Epoch: 0 batch #: 93  of 300 sample #: 199 reconstruction error: 0.114582\n",
      "Epoch: 0 batch #: 94  of 300 sample #: 199 reconstruction error: 0.104881\n",
      "Epoch: 0 batch #: 95  of 300 sample #: 199 reconstruction error: 0.075134\n",
      "Epoch: 0 batch #: 96  of 300 sample #: 199 reconstruction error: 0.053105\n",
      "Epoch: 0 batch #: 97  of 300 sample #: 199 reconstruction error: 0.125343\n",
      "Epoch: 0 batch #: 98  of 300 sample #: 199 reconstruction error: 0.089564\n",
      "Epoch: 0 batch #: 99  of 300 sample #: 199 reconstruction error: 0.064404\n",
      "Epoch: 0 batch #: 100  of 300 sample #: 199 reconstruction error: 0.109528\n",
      "Epoch: 0 batch #: 101  of 300 sample #: 199 reconstruction error: 0.072066\n",
      "Epoch: 0 batch #: 102  of 300 sample #: 199 reconstruction error: 0.080511\n",
      "Epoch: 0 batch #: 103  of 300 sample #: 199 reconstruction error: 0.076299\n",
      "Epoch: 0 batch #: 104  of 300 sample #: 199 reconstruction error: 0.065700\n",
      "Epoch: 0 batch #: 105  of 300 sample #: 199 reconstruction error: 0.069110\n",
      "Epoch: 0 batch #: 106  of 300 sample #: 199 reconstruction error: 0.127390\n",
      "Epoch: 0 batch #: 107  of 300 sample #: 199 reconstruction error: 0.134171\n",
      "Epoch: 0 batch #: 108  of 300 sample #: 199 reconstruction error: 0.079681\n",
      "Epoch: 0 batch #: 109  of 300 sample #: 199 reconstruction error: 0.113026\n",
      "Epoch: 0 batch #: 110  of 300 sample #: 199 reconstruction error: 0.042340\n",
      "Epoch: 0 batch #: 111  of 300 sample #: 199 reconstruction error: 0.106959\n",
      "Epoch: 0 batch #: 112  of 300 sample #: 199 reconstruction error: 0.024494\n",
      "Epoch: 0 batch #: 113  of 300 sample #: 199 reconstruction error: 0.078331\n",
      "Epoch: 0 batch #: 114  of 300 sample #: 199 reconstruction error: 0.066761\n",
      "Epoch: 0 batch #: 115  of 300 sample #: 199 reconstruction error: 0.076732\n",
      "Epoch: 0 batch #: 116  of 300 sample #: 199 reconstruction error: 0.059224\n",
      "Epoch: 0 batch #: 117  of 300 sample #: 199 reconstruction error: 0.045218\n",
      "Epoch: 0 batch #: 118  of 300 sample #: 199 reconstruction error: 0.067643\n",
      "Epoch: 0 batch #: 119  of 300 sample #: 199 reconstruction error: 0.128915\n",
      "Epoch: 0 batch #: 120  of 300 sample #: 199 reconstruction error: 0.079432\n",
      "Epoch: 0 batch #: 121  of 300 sample #: 199 reconstruction error: 0.053147\n",
      "Epoch: 0 batch #: 122  of 300 sample #: 199 reconstruction error: 0.093719\n",
      "Epoch: 0 batch #: 123  of 300 sample #: 199 reconstruction error: 0.080544\n",
      "Epoch: 0 batch #: 124  of 300 sample #: 199 reconstruction error: 0.055442\n",
      "Epoch: 0 batch #: 125  of 300 sample #: 199 reconstruction error: 0.043931\n",
      "Epoch: 0 batch #: 126  of 300 sample #: 199 reconstruction error: 0.083021\n",
      "Epoch: 0 batch #: 127  of 300 sample #: 199 reconstruction error: 0.086768\n",
      "Epoch: 0 batch #: 128  of 300 sample #: 199 reconstruction error: 0.060349\n",
      "Epoch: 0 batch #: 129  of 300 sample #: 199 reconstruction error: 0.055942\n",
      "Epoch: 0 batch #: 130  of 300 sample #: 199 reconstruction error: 0.074844\n",
      "Epoch: 0 batch #: 131  of 300 sample #: 199 reconstruction error: 0.056389\n",
      "Epoch: 0 batch #: 132  of 300 sample #: 199 reconstruction error: 0.047336\n",
      "Epoch: 0 batch #: 133  of 300 sample #: 199 reconstruction error: 0.063868\n",
      "Epoch: 0 batch #: 134  of 300 sample #: 199 reconstruction error: 0.113304\n",
      "Epoch: 0 batch #: 135  of 300 sample #: 199 reconstruction error: 0.088751\n",
      "Epoch: 0 batch #: 136  of 300 sample #: 199 reconstruction error: 0.114964\n",
      "Epoch: 0 batch #: 137  of 300 sample #: 199 reconstruction error: 0.052244\n",
      "Epoch: 0 batch #: 138  of 300 sample #: 199 reconstruction error: 0.081891\n",
      "Epoch: 0 batch #: 139  of 300 sample #: 199 reconstruction error: 0.101381\n",
      "Epoch: 0 batch #: 140  of 300 sample #: 199 reconstruction error: 0.098300\n",
      "Epoch: 0 batch #: 141  of 300 sample #: 199 reconstruction error: 0.077423\n",
      "Epoch: 0 batch #: 142  of 300 sample #: 199 reconstruction error: 0.065368\n",
      "Epoch: 0 batch #: 143  of 300 sample #: 199 reconstruction error: 0.061914\n",
      "Epoch: 0 batch #: 144  of 300 sample #: 199 reconstruction error: 0.078572\n",
      "Epoch: 0 batch #: 145  of 300 sample #: 199 reconstruction error: 0.087624\n",
      "Epoch: 0 batch #: 146  of 300 sample #: 199 reconstruction error: 0.094311\n",
      "Epoch: 0 batch #: 147  of 300 sample #: 199 reconstruction error: 0.071091\n",
      "Epoch: 0 batch #: 148  of 300 sample #: 199 reconstruction error: 0.098259\n",
      "Epoch: 0 batch #: 149  of 300 sample #: 199 reconstruction error: 0.049725\n",
      "Epoch: 0 batch #: 150  of 300 sample #: 199 reconstruction error: 0.054299\n",
      "Epoch: 0 batch #: 151  of 300 sample #: 199 reconstruction error: 0.112189\n",
      "Epoch: 0 batch #: 152  of 300 sample #: 199 reconstruction error: 0.096895\n",
      "Epoch: 0 batch #: 153  of 300 sample #: 199 reconstruction error: 0.064869\n",
      "Epoch: 0 batch #: 154  of 300 sample #: 199 reconstruction error: 0.070621\n",
      "Epoch: 0 batch #: 155  of 300 sample #: 199 reconstruction error: 0.056430\n",
      "Epoch: 0 batch #: 156  of 300 sample #: 199 reconstruction error: 0.071025\n",
      "Epoch: 0 batch #: 157  of 300 sample #: 199 reconstruction error: 0.084105\n",
      "Epoch: 0 batch #: 158  of 300 sample #: 199 reconstruction error: 0.056289\n",
      "Epoch: 0 batch #: 159  of 300 sample #: 199 reconstruction error: 0.058136\n",
      "Epoch: 0 batch #: 160  of 300 sample #: 199 reconstruction error: 0.067117\n",
      "Epoch: 0 batch #: 161  of 300 sample #: 199 reconstruction error: 0.093094\n",
      "Epoch: 0 batch #: 162  of 300 sample #: 199 reconstruction error: 0.111538\n",
      "Epoch: 0 batch #: 163  of 300 sample #: 199 reconstruction error: 0.050661\n",
      "Epoch: 0 batch #: 164  of 300 sample #: 199 reconstruction error: 0.066411\n",
      "Epoch: 0 batch #: 165  of 300 sample #: 199 reconstruction error: 0.079544\n",
      "Epoch: 0 batch #: 166  of 300 sample #: 199 reconstruction error: 0.079388\n",
      "Epoch: 0 batch #: 167  of 300 sample #: 199 reconstruction error: 0.099354\n",
      "Epoch: 0 batch #: 168  of 300 sample #: 199 reconstruction error: 0.052288\n",
      "Epoch: 0 batch #: 169  of 300 sample #: 199 reconstruction error: 0.041103\n",
      "Epoch: 0 batch #: 170  of 300 sample #: 199 reconstruction error: 0.062635\n",
      "Epoch: 0 batch #: 171  of 300 sample #: 199 reconstruction error: 0.028640\n",
      "Epoch: 0 batch #: 172  of 300 sample #: 199 reconstruction error: 0.050342\n",
      "Epoch: 0 batch #: 173  of 300 sample #: 199 reconstruction error: 0.089135\n",
      "Epoch: 0 batch #: 174  of 300 sample #: 199 reconstruction error: 0.111024\n",
      "Epoch: 0 batch #: 175  of 300 sample #: 199 reconstruction error: 0.063219\n",
      "Epoch: 0 batch #: 176  of 300 sample #: 199 reconstruction error: 0.040654\n",
      "Epoch: 0 batch #: 177  of 300 sample #: 199 reconstruction error: 0.039203\n",
      "Epoch: 0 batch #: 178  of 300 sample #: 199 reconstruction error: 0.114059\n",
      "Epoch: 0 batch #: 179  of 300 sample #: 199 reconstruction error: 0.082467\n",
      "Epoch: 0 batch #: 180  of 300 sample #: 199 reconstruction error: 0.088053\n",
      "Epoch: 0 batch #: 181  of 300 sample #: 199 reconstruction error: 0.097023\n",
      "Epoch: 0 batch #: 182  of 300 sample #: 199 reconstruction error: 0.077212\n",
      "Epoch: 0 batch #: 183  of 300 sample #: 199 reconstruction error: 0.135634\n",
      "Epoch: 0 batch #: 184  of 300 sample #: 199 reconstruction error: 0.059902\n",
      "Epoch: 0 batch #: 185  of 300 sample #: 199 reconstruction error: 0.076435\n",
      "Epoch: 0 batch #: 186  of 300 sample #: 199 reconstruction error: 0.088798\n",
      "Epoch: 0 batch #: 187  of 300 sample #: 199 reconstruction error: 0.049780\n",
      "Epoch: 0 batch #: 188  of 300 sample #: 199 reconstruction error: 0.128877\n",
      "Epoch: 0 batch #: 189  of 300 sample #: 199 reconstruction error: 0.066527\n",
      "Epoch: 0 batch #: 190  of 300 sample #: 199 reconstruction error: 0.069301\n",
      "Epoch: 0 batch #: 191  of 300 sample #: 199 reconstruction error: 0.101351\n",
      "Epoch: 0 batch #: 192  of 300 sample #: 199 reconstruction error: 0.109750\n",
      "Epoch: 0 batch #: 193  of 300 sample #: 199 reconstruction error: 0.102218\n",
      "Epoch: 0 batch #: 194  of 300 sample #: 199 reconstruction error: 0.084926\n",
      "Epoch: 0 batch #: 195  of 300 sample #: 199 reconstruction error: 0.053331\n",
      "Epoch: 0 batch #: 196  of 300 sample #: 199 reconstruction error: 0.050744\n",
      "Epoch: 0 batch #: 197  of 300 sample #: 199 reconstruction error: 0.059537\n",
      "Epoch: 0 batch #: 198  of 300 sample #: 199 reconstruction error: 0.094481\n",
      "Epoch: 0 batch #: 199  of 300 sample #: 199 reconstruction error: 0.072196\n",
      "Epoch: 0 batch #: 200  of 300 sample #: 199 reconstruction error: 0.088010\n",
      "Epoch: 0 batch #: 201  of 300 sample #: 199 reconstruction error: 0.089417\n",
      "Epoch: 0 batch #: 202  of 300 sample #: 199 reconstruction error: 0.027628\n",
      "Epoch: 0 batch #: 203  of 300 sample #: 199 reconstruction error: 0.085249\n",
      "Epoch: 0 batch #: 204  of 300 sample #: 199 reconstruction error: 0.048033\n",
      "Epoch: 0 batch #: 205  of 300 sample #: 199 reconstruction error: 0.024457\n",
      "Epoch: 0 batch #: 206  of 300 sample #: 199 reconstruction error: 0.071846\n",
      "Epoch: 0 batch #: 207  of 300 sample #: 199 reconstruction error: 0.088811\n",
      "Epoch: 0 batch #: 208  of 300 sample #: 199 reconstruction error: 0.064704\n",
      "Epoch: 0 batch #: 209  of 300 sample #: 199 reconstruction error: 0.030356\n",
      "Epoch: 0 batch #: 210  of 300 sample #: 199 reconstruction error: 0.091319\n",
      "Epoch: 0 batch #: 211  of 300 sample #: 199 reconstruction error: 0.093015\n",
      "Epoch: 0 batch #: 212  of 300 sample #: 199 reconstruction error: 0.093300\n",
      "Epoch: 0 batch #: 213  of 300 sample #: 199 reconstruction error: 0.109476\n",
      "Epoch: 0 batch #: 214  of 300 sample #: 199 reconstruction error: 0.119576\n",
      "Epoch: 0 batch #: 215  of 300 sample #: 199 reconstruction error: 0.026716\n",
      "Epoch: 0 batch #: 216  of 300 sample #: 199 reconstruction error: 0.102053\n",
      "Epoch: 0 batch #: 217  of 300 sample #: 199 reconstruction error: 0.087729\n",
      "Epoch: 0 batch #: 218  of 300 sample #: 199 reconstruction error: 0.075049\n",
      "Epoch: 0 batch #: 219  of 300 sample #: 199 reconstruction error: 0.060752\n",
      "Epoch: 0 batch #: 220  of 300 sample #: 199 reconstruction error: 0.052618\n",
      "Epoch: 0 batch #: 221  of 300 sample #: 199 reconstruction error: 0.107646\n",
      "Epoch: 0 batch #: 222  of 300 sample #: 199 reconstruction error: 0.093359\n",
      "Epoch: 0 batch #: 223  of 300 sample #: 199 reconstruction error: 0.087024\n",
      "Epoch: 0 batch #: 224  of 300 sample #: 199 reconstruction error: 0.057508\n",
      "Epoch: 0 batch #: 225  of 300 sample #: 199 reconstruction error: 0.060359\n",
      "Epoch: 0 batch #: 226  of 300 sample #: 199 reconstruction error: 0.117638\n",
      "Epoch: 0 batch #: 227  of 300 sample #: 199 reconstruction error: 0.072094\n",
      "Epoch: 0 batch #: 228  of 300 sample #: 199 reconstruction error: 0.068086\n",
      "Epoch: 0 batch #: 229  of 300 sample #: 199 reconstruction error: 0.078201\n",
      "Epoch: 0 batch #: 230  of 300 sample #: 199 reconstruction error: 0.044832\n",
      "Epoch: 0 batch #: 231  of 300 sample #: 199 reconstruction error: 0.025784\n",
      "Epoch: 0 batch #: 232  of 300 sample #: 199 reconstruction error: 0.070044\n",
      "Epoch: 0 batch #: 233  of 300 sample #: 199 reconstruction error: 0.081379\n",
      "Epoch: 0 batch #: 234  of 300 sample #: 199 reconstruction error: 0.052832\n",
      "Epoch: 0 batch #: 235  of 300 sample #: 199 reconstruction error: 0.071070\n",
      "Epoch: 0 batch #: 236  of 300 sample #: 199 reconstruction error: 0.086211\n",
      "Epoch: 0 batch #: 237  of 300 sample #: 199 reconstruction error: 0.081451\n",
      "Epoch: 0 batch #: 238  of 300 sample #: 199 reconstruction error: 0.098259\n",
      "Epoch: 0 batch #: 239  of 300 sample #: 199 reconstruction error: 0.027105\n",
      "Epoch: 0 batch #: 240  of 300 sample #: 199 reconstruction error: 0.119520\n",
      "Epoch: 0 batch #: 241  of 300 sample #: 199 reconstruction error: 0.084936\n",
      "Epoch: 0 batch #: 242  of 300 sample #: 199 reconstruction error: 0.082435\n",
      "Epoch: 0 batch #: 243  of 300 sample #: 199 reconstruction error: 0.055559\n",
      "Epoch: 0 batch #: 244  of 300 sample #: 199 reconstruction error: 0.080008\n",
      "Epoch: 0 batch #: 245  of 300 sample #: 199 reconstruction error: 0.071077\n",
      "Epoch: 0 batch #: 246  of 300 sample #: 199 reconstruction error: 0.086204\n",
      "Epoch: 0 batch #: 247  of 300 sample #: 199 reconstruction error: 0.043714\n",
      "Epoch: 0 batch #: 248  of 300 sample #: 199 reconstruction error: 0.061274\n",
      "Epoch: 0 batch #: 249  of 300 sample #: 199 reconstruction error: 0.052524\n",
      "Epoch: 0 batch #: 250  of 300 sample #: 199 reconstruction error: 0.082454\n",
      "Epoch: 0 batch #: 251  of 300 sample #: 199 reconstruction error: 0.041408\n",
      "Epoch: 0 batch #: 252  of 300 sample #: 199 reconstruction error: 0.080106\n",
      "Epoch: 0 batch #: 253  of 300 sample #: 199 reconstruction error: 0.059687\n",
      "Epoch: 0 batch #: 254  of 300 sample #: 199 reconstruction error: 0.030558\n",
      "Epoch: 0 batch #: 255  of 300 sample #: 199 reconstruction error: 0.058724\n",
      "Epoch: 0 batch #: 256  of 300 sample #: 199 reconstruction error: 0.084493\n",
      "Epoch: 0 batch #: 257  of 300 sample #: 199 reconstruction error: 0.101073\n",
      "Epoch: 0 batch #: 258  of 300 sample #: 199 reconstruction error: 0.075003\n",
      "Epoch: 0 batch #: 259  of 300 sample #: 199 reconstruction error: 0.083426\n",
      "Epoch: 0 batch #: 260  of 300 sample #: 199 reconstruction error: 0.110268\n",
      "Epoch: 0 batch #: 261  of 300 sample #: 199 reconstruction error: 0.035848\n",
      "Epoch: 0 batch #: 262  of 300 sample #: 199 reconstruction error: 0.054939\n",
      "Epoch: 0 batch #: 263  of 300 sample #: 199 reconstruction error: 0.063316\n",
      "Epoch: 0 batch #: 264  of 300 sample #: 199 reconstruction error: 0.073694\n",
      "Epoch: 0 batch #: 265  of 300 sample #: 199 reconstruction error: 0.065832\n",
      "Epoch: 0 batch #: 266  of 300 sample #: 199 reconstruction error: 0.032893\n",
      "Epoch: 0 batch #: 267  of 300 sample #: 199 reconstruction error: 0.058693\n",
      "Epoch: 0 batch #: 268  of 300 sample #: 199 reconstruction error: 0.030072\n",
      "Epoch: 0 batch #: 269  of 300 sample #: 199 reconstruction error: 0.084151\n",
      "Epoch: 0 batch #: 270  of 300 sample #: 199 reconstruction error: 0.089164\n",
      "Epoch: 0 batch #: 271  of 300 sample #: 199 reconstruction error: 0.056893\n",
      "Epoch: 0 batch #: 272  of 300 sample #: 199 reconstruction error: 0.069584\n",
      "Epoch: 0 batch #: 273  of 300 sample #: 199 reconstruction error: 0.055813\n",
      "Epoch: 0 batch #: 274  of 300 sample #: 199 reconstruction error: 0.052796\n",
      "Epoch: 0 batch #: 275  of 300 sample #: 199 reconstruction error: 0.090552\n",
      "Epoch: 0 batch #: 276  of 300 sample #: 199 reconstruction error: 0.074352\n",
      "Epoch: 0 batch #: 277  of 300 sample #: 199 reconstruction error: 0.081782\n",
      "Epoch: 0 batch #: 278  of 300 sample #: 199 reconstruction error: 0.057639\n",
      "Epoch: 0 batch #: 279  of 300 sample #: 199 reconstruction error: 0.051991\n",
      "Epoch: 0 batch #: 280  of 300 sample #: 199 reconstruction error: 0.073527\n",
      "Epoch: 0 batch #: 281  of 300 sample #: 199 reconstruction error: 0.089830\n",
      "Epoch: 0 batch #: 282  of 300 sample #: 199 reconstruction error: 0.088139\n",
      "Epoch: 0 batch #: 283  of 300 sample #: 199 reconstruction error: 0.053624\n",
      "Epoch: 0 batch #: 284  of 300 sample #: 199 reconstruction error: 0.048086\n",
      "Epoch: 0 batch #: 285  of 300 sample #: 199 reconstruction error: 0.080897\n",
      "Epoch: 0 batch #: 286  of 300 sample #: 199 reconstruction error: 0.077611\n",
      "Epoch: 0 batch #: 287  of 300 sample #: 199 reconstruction error: 0.062176\n",
      "Epoch: 0 batch #: 288  of 300 sample #: 199 reconstruction error: 0.021465\n",
      "Epoch: 0 batch #: 289  of 300 sample #: 199 reconstruction error: 0.084356\n",
      "Epoch: 0 batch #: 290  of 300 sample #: 199 reconstruction error: 0.109383\n",
      "Epoch: 0 batch #: 291  of 300 sample #: 199 reconstruction error: 0.130367\n",
      "Epoch: 0 batch #: 292  of 300 sample #: 199 reconstruction error: 0.076294\n",
      "Epoch: 0 batch #: 293  of 300 sample #: 199 reconstruction error: 0.057160\n",
      "Epoch: 0 batch #: 294  of 300 sample #: 199 reconstruction error: 0.075253\n",
      "Epoch: 0 batch #: 295  of 300 sample #: 199 reconstruction error: 0.087827\n",
      "Epoch: 0 batch #: 296  of 300 sample #: 199 reconstruction error: 0.029274\n",
      "Epoch: 0 batch #: 297  of 300 sample #: 199 reconstruction error: 0.092502\n",
      "Epoch: 0 batch #: 298  of 300 sample #: 199 reconstruction error: 0.062301\n",
      "Epoch: 0 batch #: 299  of 300 sample #: 199 reconstruction error: 0.050796\n",
      "Epoch: 0 batch #: 300  of 300 sample #: 199 reconstruction error: 0.073796\n"
     ]
    }
   ],
   "source": [
    "#Parameters\n",
    "alpha = 0.01\n",
    "epochs = 1\n",
    "batchsize = 200\n",
    "weights = []\n",
    "errors = []\n",
    "batch_number = 0\n",
    "K = 1\n",
    "\n",
    "#creating datasets\n",
    "train_ds = \\\n",
    "    tf.data.Dataset.from_tensor_slices((trX, trY)).batch(batchsize)\n",
    "\n",
    "for epoch in range(epochs):\n",
    "    for batch_x, batch_y in train_ds:\n",
    "        batch_number += 1\n",
    "        for i_sample in range(batchsize):           \n",
    "            for k in range(K):\n",
    "                v0_state = batch_x[i_sample]\n",
    "                h0_state = hidden_layer(v0_state, W, hb)\n",
    "                v1_state = reconstructed_output(h0_state, W, vb)\n",
    "                h1_state = hidden_layer(v1_state, W, hb)\n",
    "\n",
    "                delta_W = tf.matmul(tf.transpose([v0_state]), h0_state) - tf.matmul(tf.transpose([v1_state]), h1_state)\n",
    "                W = W + alpha * delta_W\n",
    "\n",
    "                vb = vb + alpha * tf.reduce_mean(v0_state - v1_state, 0)\n",
    "                hb = hb + alpha * tf.reduce_mean(h0_state - h1_state, 0) \n",
    "\n",
    "                v0_state = v1_state\n",
    "\n",
    "            if i_sample == batchsize-1:\n",
    "                err = error(batch_x[i_sample], v1_state)\n",
    "                errors.append(err)\n",
    "                weights.append(W)\n",
    "                print ( 'Epoch: %d' % epoch, \n",
    "                       \"batch #: %i \" % batch_number, \"of %i\" % int(60e3/batchsize), \n",
    "                       \"sample #: %i\" % i_sample,\n",
    "                       'reconstruction error: %f' % err)\n",
    "\n"
   ]
  },
  {
   "cell_type": "markdown",
   "metadata": {},
   "source": [
    "Let's take a look at the errors at the end of each batch:\n"
   ]
  },
  {
   "cell_type": "code",
   "execution_count": 18,
   "metadata": {},
   "outputs": [
    {
     "data": {
      "image/png": "[encoded data removed]",
      "text/plain": [
       "<Figure size 432x288 with 1 Axes>"
      ]
     },
     "metadata": {
      "needs_background": "light"
     },
     "output_type": "display_data"
    }
   ],
   "source": [
    "plt.plot(errors)\n",
    "plt.xlabel(\"Batch Number\")\n",
    "plt.ylabel(\"Error\")\n",
    "plt.show()"
   ]
  },
  {
   "cell_type": "markdown",
   "metadata": {},
   "source": [
    "What is the final weight matrix $W$ after training?\n"
   ]
  },
  {
   "cell_type": "code",
   "execution_count": 19,
   "metadata": {},
   "outputs": [
    {
     "name": "stdout",
     "output_type": "stream",
     "text": [
      "[[-0.3899999  -0.27       -0.22000003 ... -0.27       -0.44999984\n",
      "  -0.33999994]\n",
      " [-0.28       -0.21000002 -0.28       ... -0.26000002 -0.46999982\n",
      "  -0.41999987]\n",
      " [-0.31999996 -0.30999997 -0.25000003 ... -0.29999998 -0.43999985\n",
      "  -0.42999986]\n",
      " ...\n",
      " [-0.27       -0.27       -0.29999998 ... -0.24000004 -0.3799999\n",
      "  -0.29      ]\n",
      " [-0.3799999  -0.24000004 -0.27       ... -0.28       -0.40999988\n",
      "  -0.3899999 ]\n",
      " [-0.31999996 -0.26000002 -0.30999997 ... -0.27       -0.3799999\n",
      "  -0.43999985]]\n"
     ]
    }
   ],
   "source": [
    "print(W.numpy()) # a weight matrix of shape (50,784)"
   ]
  },
  {
   "cell_type": "markdown",
   "metadata": {},
   "source": [
    "<a id=\"ref5\"></a>\n",
    "\n",
    "<h3>Learned features</h3> \n"
   ]
  },
  {
   "cell_type": "markdown",
   "metadata": {},
   "source": [
    "We can take each hidden unit and visualize the connections between that hidden unit and each element in the input vector. In our case, we have 50 hidden units. Lets visualize those.\n"
   ]
  },
  {
   "cell_type": "markdown",
   "metadata": {},
   "source": [
    "Let's plot the current weights: <b>tile_raster_images</b> helps in generating an easy to grasp image from a set of samples or weights. It transforms the <b>uw</b> (with one flattened image per row of size 784), into an array (of size $28\\times28$) in which images are reshaped and laid out like tiles on a floor.\n"
   ]
  },
  {
   "cell_type": "code",
   "execution_count": 20,
   "metadata": {},
   "outputs": [
    {
     "data": {
      "image/png": "[encoded data removed]",
      "text/plain": [
       "<Figure size 1296x1296 with 1 Axes>"
      ]
     },
     "metadata": {
      "needs_background": "light"
     },
     "output_type": "display_data"
    }
   ],
   "source": [
    "tile_raster_images(X=W.numpy().T, img_shape=(28, 28), tile_shape=(5, 10), tile_spacing=(1, 1))\n",
    "import matplotlib.pyplot as plt\n",
    "from PIL import Image\n",
    "%matplotlib inline\n",
    "image = Image.fromarray(tile_raster_images(X=W.numpy().T, img_shape=(28, 28) ,tile_shape=(5, 10), tile_spacing=(1, 1)))\n",
    "### Plot image\n",
    "plt.rcParams['figure.figsize'] = (18.0, 18.0)\n",
    "imgplot = plt.imshow(image)\n",
    "imgplot.set_cmap('gray')  "
   ]
  },
  {
   "cell_type": "markdown",
   "metadata": {},
   "source": [
    "Each tile in the above visualization corresponds to a vector of connections between a hidden unit and visible layer's units.\n"
   ]
  },
  {
   "cell_type": "markdown",
   "metadata": {},
   "source": [
    "Let's look at one of the learned weights corresponding to one of hidden units for example. In this particular square, the gray color represents weight = 0, and the whiter it is, the more positive the weights are (closer to 1). Conversely, the darker pixels are, the more negative the weights. The positive pixels will increase the probability of activation in hidden units (after multiplying by input/visible pixels), and negative pixels will decrease the probability of a unit hidden to be 1 (activated). So, why is this important?  So we can see that this specific square (hidden unit) can detect a feature (e.g. a \"/\" shape) and if it exists in the input.\n"
   ]
  },
  {
   "cell_type": "code",
   "execution_count": 21,
   "metadata": {},
   "outputs": [
    {
     "data": {
      "image/png": "[encoded data removed]",
      "text/plain": [
       "<Figure size 288x288 with 1 Axes>"
      ]
     },
     "metadata": {
      "needs_background": "light"
     },
     "output_type": "display_data"
    }
   ],
   "source": [
    "from PIL import Image\n",
    "image = Image.fromarray(tile_raster_images(X =W.numpy().T[10:11], img_shape=(28, 28),tile_shape=(1, 1), tile_spacing=(1, 1)))\n",
    "### Plot image\n",
    "plt.rcParams['figure.figsize'] = (4.0, 4.0)\n",
    "imgplot = plt.imshow(image)\n",
    "imgplot.set_cmap('gray')  "
   ]
  },
  {
   "cell_type": "markdown",
   "metadata": {},
   "source": [
    "Let's look at the reconstruction of an image now. Imagine that we have a destructed image of figure 3. Lets see if our trained network can fix it:\n",
    "\n",
    "First we plot the image:\n"
   ]
  },
  {
   "cell_type": "code",
   "execution_count": 22,
   "metadata": {},
   "outputs": [
    {
     "name": "stdout",
     "output_type": "stream",
     "text": [
      "--2022-04-15 19:45:41--  https://ibm.box.com/shared/static/vvm1b63uvuxq88vbw9znpwu5ol380mco.jpg\n",
      "Resolving ibm.box.com (ibm.box.com)... 107.152.29.197\n",
      "Connecting to ibm.box.com (ibm.box.com)|107.152.29.197|:443... connected.\n",
      "HTTP request sent, awaiting response... 301 Moved Permanently\n",
      "Location: /public/static/vvm1b63uvuxq88vbw9znpwu5ol380mco.jpg [following]\n",
      "--2022-04-15 19:45:42--  https://ibm.box.com/public/static/vvm1b63uvuxq88vbw9znpwu5ol380mco.jpg\n",
      "Reusing existing connection to ibm.box.com:443.\n",
      "HTTP request sent, awaiting response... 301 Moved Permanently\n",
      "Location: https://ibm.ent.box.com/public/static/vvm1b63uvuxq88vbw9znpwu5ol380mco.jpg [following]\n",
      "--2022-04-15 19:45:42--  https://ibm.ent.box.com/public/static/vvm1b63uvuxq88vbw9znpwu5ol380mco.jpg\n",
      "Resolving ibm.ent.box.com (ibm.ent.box.com)... 107.152.26.201\n",
      "Connecting to ibm.ent.box.com (ibm.ent.box.com)|107.152.26.201|:443... connected.\n",
      "HTTP request sent, awaiting response... 302 Found\n",
      "Location: https://public.boxcloud.com/d/1/b1!CrokX24DtR9kCPlTQoqZdYlswIQlj-WtpqjR4gyqY6vHL0NvrTl5AMKCZdAunz-wF5gAtsDPuEZoDX74w54LKTI2ry4JJTp7d9codww-K-A6ecYK7879xsmai2HgE67DtDdwVQoG2GA6OPcPO_AGyx71Q8WEu8E9fkHcMOaTp7sGq19xz53USdPJGKzIgVmOT71sJosJat74Eqm0AhfHDJOLI5_9HYZP_QUeNVeVNHt17ECLJRbC7_hwRgkO8y5134o0s2lo9XFXPg120EmUwEAy6OkuLzVizztklzmJz4cdLfNP5OBEnGc5uomDbinLSQNnsXS7ZeLWN79zTZcRps4fmw_GlWLCbuytfYtzL-b_RhDswsZWMiK7dYO_jE2I172RaiKj_88z5iCYi6uokalzHW57VWuV5osAY1WfymgDmLN6-2c12PwERQvoQCeK9KNUGM-KuODkyn19R0gmgr_2xabgnr5YS2aeBXZyWTGL-xlAh2eNq4RGkaELlP9tHzOhg2N2TjdwatqbAYeT3lkvQUKr5sWpMlFuGIfJZny6Bwb66FXOnJMqhn7XE8glUGxdr1mlIx-NH-M6JLSmhx3yMbB-k4rw7WgJDppMCg3PNh7hL_IQJ0onIkREJG3GFwqvhDyziY_bWCVd7OLbzBcw5bUAfqpAG1Wj99KoRK4SaWgosSfgOaPjPbczrhTy_fNU35MjFAGCAY5S7lHUohti78A08c5XcR1d1t2qEKe5pK1CgOoLUXh6f2QIH__hoW8-4yB-JaZrc7NDdLldb1A4u4q9mTyDBUYrzXzMMcBqxAoFBp2KQXWWDaLyygWxvQyNHiLXrxEqAW3HpzpShjVcSsfacko6TDOd90pGPeVMjYsZ7WRGqK1A7uNP0rPn-C5uJfbq052Rp3SPiPpqOhs4N_PxOZjL6oFYpwRIvMsJP0m6QZXuikGJGY-qdYDQNvbAhQmoxM8uJGwiZEofWm9v9W99PkRwTupZEWImXqW7rm8DzE4soQkW30g9K9LCEDtUg8WWjU8pyU3iWv5BZNlHACqDf7yv5EeqSFTgkF548rzMdcniCl7ilUSb-zKMS-_oXLAie1-vSl7iBSrBFfT_kALcoRK6EuuJHAjCbiW-SQKDf4WqORX9SePIPEomR9DnBcHnl5xBLr4dwXoNrV4Z-JMSj-f7vaQuW41nxu_G4mEZcWISoQkA-f_KHkypG9WT59JMZz5I8Woj0E_7oAZb2c0tdYadiMAE72KJaVwHS_fh2yLHJlZaisRYMuRmEBfML6QkfhIDjfoIHirlQd-2eV2revKEjQA-LOojRlYND0bY0YNsdOo-q7k-WGurzS69YVOggEh_1xCHFfub8Cc_YtZxLkgV1ZDcXSc6TBs7DUbp4QRLI9dSYI4z0sd3UajB60ZJrACiCIpOyU5BMIuz0JSyKBBhi-_cwzYwNoFDpsnyqg-VN6qv5Fz3UZU./download [following]\n",
      "--2022-04-15 19:45:43--  https://public.boxcloud.com/d/1/b1!CrokX24DtR9kCPlTQoqZdYlswIQlj-WtpqjR4gyqY6vHL0NvrTl5AMKCZdAunz-wF5gAtsDPuEZoDX74w54LKTI2ry4JJTp7d9codww-K-A6ecYK7879xsmai2HgE67DtDdwVQoG2GA6OPcPO_AGyx71Q8WEu8E9fkHcMOaTp7sGq19xz53USdPJGKzIgVmOT71sJosJat74Eqm0AhfHDJOLI5_9HYZP_QUeNVeVNHt17ECLJRbC7_hwRgkO8y5134o0s2lo9XFXPg120EmUwEAy6OkuLzVizztklzmJz4cdLfNP5OBEnGc5uomDbinLSQNnsXS7ZeLWN79zTZcRps4fmw_GlWLCbuytfYtzL-b_RhDswsZWMiK7dYO_jE2I172RaiKj_88z5iCYi6uokalzHW57VWuV5osAY1WfymgDmLN6-2c12PwERQvoQCeK9KNUGM-KuODkyn19R0gmgr_2xabgnr5YS2aeBXZyWTGL-xlAh2eNq4RGkaELlP9tHzOhg2N2TjdwatqbAYeT3lkvQUKr5sWpMlFuGIfJZny6Bwb66FXOnJMqhn7XE8glUGxdr1mlIx-NH-M6JLSmhx3yMbB-k4rw7WgJDppMCg3PNh7hL_IQJ0onIkREJG3GFwqvhDyziY_bWCVd7OLbzBcw5bUAfqpAG1Wj99KoRK4SaWgosSfgOaPjPbczrhTy_fNU35MjFAGCAY5S7lHUohti78A08c5XcR1d1t2qEKe5pK1CgOoLUXh6f2QIH__hoW8-4yB-JaZrc7NDdLldb1A4u4q9mTyDBUYrzXzMMcBqxAoFBp2KQXWWDaLyygWxvQyNHiLXrxEqAW3HpzpShjVcSsfacko6TDOd90pGPeVMjYsZ7WRGqK1A7uNP0rPn-C5uJfbq052Rp3SPiPpqOhs4N_PxOZjL6oFYpwRIvMsJP0m6QZXuikGJGY-qdYDQNvbAhQmoxM8uJGwiZEofWm9v9W99PkRwTupZEWImXqW7rm8DzE4soQkW30g9K9LCEDtUg8WWjU8pyU3iWv5BZNlHACqDf7yv5EeqSFTgkF548rzMdcniCl7ilUSb-zKMS-_oXLAie1-vSl7iBSrBFfT_kALcoRK6EuuJHAjCbiW-SQKDf4WqORX9SePIPEomR9DnBcHnl5xBLr4dwXoNrV4Z-JMSj-f7vaQuW41nxu_G4mEZcWISoQkA-f_KHkypG9WT59JMZz5I8Woj0E_7oAZb2c0tdYadiMAE72KJaVwHS_fh2yLHJlZaisRYMuRmEBfML6QkfhIDjfoIHirlQd-2eV2revKEjQA-LOojRlYND0bY0YNsdOo-q7k-WGurzS69YVOggEh_1xCHFfub8Cc_YtZxLkgV1ZDcXSc6TBs7DUbp4QRLI9dSYI4z0sd3UajB60ZJrACiCIpOyU5BMIuz0JSyKBBhi-_cwzYwNoFDpsnyqg-VN6qv5Fz3UZU./download\n",
      "Resolving public.boxcloud.com (public.boxcloud.com)... 107.152.29.200\n",
      "Connecting to public.boxcloud.com (public.boxcloud.com)|107.152.29.200|:443... connected.\n",
      "HTTP request sent, awaiting response... 200 OK\n",
      "Length: 24383 (24K) [image/jpeg]\n",
      "Saving to: ‘destructed3.jpg’\n",
      "\n",
      "destructed3.jpg     100%[===================>]  23.81K  --.-KB/s    in 0.02s   \n",
      "\n",
      "2022-04-15 19:45:43 (1.27 MB/s) - ‘destructed3.jpg’ saved [24383/24383]\n",
      "\n"
     ]
    },
    {
     "data": {
      "image/png": "[encoded data removed]",
      "text/plain": [
       "<PIL.JpegImagePlugin.JpegImageFile image mode=RGB size=181x181 at 0x7F6F883BCE50>"
      ]
     },
     "execution_count": 22,
     "metadata": {},
     "output_type": "execute_result"
    }
   ],
   "source": [
    "!wget -O destructed3.jpg  https://ibm.box.com/shared/static/vvm1b63uvuxq88vbw9znpwu5ol380mco.jpg\n",
    "img = Image.open('destructed3.jpg')\n",
    "img"
   ]
  },
  {
   "cell_type": "markdown",
   "metadata": {},
   "source": [
    "Now let's pass this image through the neural net:\n"
   ]
  },
  {
   "cell_type": "code",
   "execution_count": 23,
   "metadata": {},
   "outputs": [],
   "source": [
    "# convert the image to a 1d numpy array\n",
    "sample_case = np.array(img.convert('I').resize((28,28))).ravel().reshape((1, -1))/255.0\n",
    "\n",
    "sample_case = tf.cast(sample_case, dtype=tf.float32)"
   ]
  },
  {
   "cell_type": "markdown",
   "metadata": {},
   "source": [
    "Feed the sample case into the network and reconstruct the output:\n"
   ]
  },
  {
   "cell_type": "code",
   "execution_count": 24,
   "metadata": {},
   "outputs": [
    {
     "name": "stdout",
     "output_type": "stream",
     "text": [
      "Probability nodes in hidden layer: tf.Tensor(\n",
      "[[9.02701140e-05 9.88188028e-01 9.59229469e-01 2.09568563e-09\n",
      "  9.99999642e-01 2.15825081e-01 3.46988440e-04 3.01047555e-12\n",
      "  4.07701257e-16 4.43834164e-10 3.85671854e-04 2.88291085e-06\n",
      "  1.79743767e-02 3.19331884e-04 9.30667400e-01 1.00000000e+00\n",
      "  5.37902117e-04 2.87941945e-11 1.01624362e-04 9.99938607e-01\n",
      "  1.00000000e+00 6.08170847e-09 3.00340671e-14 5.18891707e-10\n",
      "  2.53250950e-15 8.91166925e-03 5.53251684e-01 5.33231556e-01\n",
      "  9.99999642e-01 9.99993563e-01 4.55374122e-02 2.44574249e-02\n",
      "  5.35182922e-12 2.78405459e-08 1.00000000e+00 5.76923925e-12\n",
      "  1.00000000e+00 1.21576818e-10 9.94941592e-01 9.82810378e-01\n",
      "  6.56438768e-01 9.99998748e-01 4.84306975e-06 2.18851437e-06\n",
      "  5.17874956e-04 1.11556895e-13 9.66075659e-02 8.35965039e-08\n",
      "  9.99952435e-01 2.68290815e-13]], shape=(1, 50), dtype=float32)\n",
      "activated nodes in hidden layer: tf.Tensor(\n",
      "[[0. 1. 1. 0. 1. 0. 0. 0. 0. 0. 0. 0. 0. 0. 1. 1. 0. 0. 0. 1. 1. 0. 0. 0.\n",
      "  0. 0. 1. 1. 1. 1. 0. 0. 0. 0. 1. 0. 1. 0. 1. 1. 1. 1. 0. 0. 0. 0. 0. 0.\n",
      "  1. 0.]], shape=(1, 50), dtype=float32)\n",
      "tf.Tensor(\n",
      "[[1.96635723e-04 1.56283379e-04 1.45703554e-04 2.96264887e-04\n",
      "  1.62690878e-04 1.64300203e-04 1.85191631e-04 2.37792730e-04\n",
      "  1.98662281e-04 1.47163868e-04 2.57551670e-04 2.08824873e-04\n",
      "  2.48640776e-04 1.77711248e-04 2.81631947e-04 2.58147717e-04\n",
      "  3.54677439e-04 2.65389681e-04 2.30729580e-04 1.44243240e-04\n",
      "  1.25437975e-04 1.51664019e-04 1.41441822e-04 2.37792730e-04\n",
      "  1.07933934e-04 2.17258930e-04 1.89036131e-04 1.51664019e-04\n",
      "  1.53124332e-04 1.81466341e-04 3.11464071e-04 2.55078077e-04\n",
      "  1.44869089e-04 2.31683254e-04 2.79635191e-04 2.13980675e-04\n",
      "  2.58862972e-04 1.38968229e-04 2.77489424e-04 2.30044127e-04\n",
      "  2.11477280e-04 2.39163637e-04 3.25590372e-04 3.73303890e-04\n",
      "  3.85314226e-04 2.33262777e-04 4.08470631e-04 3.20255756e-04\n",
      "  1.44541264e-04 2.34425068e-04 3.27944756e-04 1.33037567e-04\n",
      "  2.35438347e-04 2.52515078e-04 2.40206718e-04 1.83343887e-04\n",
      "  2.52515078e-04 1.70946121e-04 1.90377235e-04 2.38120556e-04\n",
      "  2.08467245e-04 2.49832869e-04 3.41773033e-04 2.21610069e-04\n",
      "  2.43008137e-04 1.01493133e-04 9.70330875e-05 2.97450806e-05\n",
      "  5.47802156e-05 5.01145405e-05 4.70631276e-05 2.42161805e-05\n",
      "  3.47083624e-05 2.94722286e-05 2.16314656e-05 2.71518402e-05\n",
      "  3.46143534e-05 1.24931335e-04 2.02059746e-04 2.11447477e-04\n",
      "  1.99884176e-04 2.97784805e-04 1.81466341e-04 2.19553709e-04\n",
      "  2.17258930e-04 2.47538090e-04 1.95801258e-04 2.07632780e-04\n",
      "  1.99466944e-04 3.08901072e-04 3.92705202e-04 1.44541264e-04\n",
      "  1.27077103e-04 1.03601160e-04 4.28459061e-05 9.16597492e-05\n",
      "  1.60634518e-04 2.71469355e-04 4.81188297e-04 6.49362803e-04\n",
      "  5.08040190e-04 2.77161598e-04 2.33143568e-04 2.57313251e-04\n",
      "  1.43766403e-04 1.46836042e-04 2.12907791e-04 2.93254852e-04\n",
      "  3.79681587e-04 2.23875046e-04 1.92314386e-04 1.10114292e-04\n",
      "  1.53124332e-04 1.68949366e-04 1.40219927e-04 2.29537487e-04\n",
      "  5.20795584e-04 7.55161047e-04 8.98122787e-04 1.00550056e-03\n",
      "  4.93824482e-04 1.26236677e-03 1.31088495e-03 2.42236257e-03\n",
      "  1.55825019e-02 2.02223659e-02 2.13378966e-02 2.33023167e-02\n",
      "  1.99634731e-02 7.61893392e-03 5.87043166e-03 1.21909380e-03\n",
      "  1.49121881e-03 1.36640668e-03 1.43033266e-03 1.27303600e-03\n",
      "  1.43527985e-03 4.66406345e-04 2.72065401e-04 1.92523003e-04\n",
      "  1.88946724e-04 3.37421894e-04 1.65879726e-04 3.00735235e-04\n",
      "  1.15618110e-03 1.68484449e-03 3.86208296e-03 9.56583023e-03\n",
      "  2.12853551e-02 2.32593715e-02 6.25143647e-02 1.52966321e-01\n",
      "  4.85611230e-01 8.24066520e-01 8.74776781e-01 8.58613610e-01\n",
      "  6.82704210e-01 6.02036536e-01 2.85307318e-01 1.31294668e-01\n",
      "  5.56820333e-02 1.05427206e-02 5.50967455e-03 4.81572747e-03\n",
      "  1.30715966e-03 9.54329967e-04 5.67883253e-04 2.26676464e-04\n",
      "  1.98662281e-04 2.10016966e-04 3.82423401e-04 1.70034170e-03\n",
      "  5.76788187e-03 2.19395161e-02 2.16761529e-02 4.51458991e-02\n",
      "  6.89404607e-02 1.91459984e-01 4.64444757e-01 7.33487129e-01\n",
      "  9.62947786e-01 9.73688424e-01 9.62136209e-01 9.51684117e-01\n",
      "  8.64424467e-01 7.91530013e-01 5.88009715e-01 2.62019813e-01\n",
      "  2.28114963e-01 6.16938770e-02 1.68174207e-02 6.29639626e-03\n",
      "  1.48165226e-03 1.49583817e-03 1.00040436e-03 2.31295824e-04\n",
      "  2.51621008e-04 2.69860029e-04 5.77330589e-04 3.56963277e-03\n",
      "  2.08070576e-02 4.60706651e-02 1.22969866e-01 7.69734979e-02\n",
      "  1.53867066e-01 5.07552922e-01 7.21767724e-01 9.42698777e-01\n",
      "  9.42043185e-01 9.67408657e-01 8.92758071e-01 9.05979991e-01\n",
      "  6.28026545e-01 5.07112324e-01 6.31713688e-01 7.14847326e-01\n",
      "  5.30440152e-01 2.52782226e-01 3.75341773e-02 6.45649433e-03\n",
      "  1.16384029e-03 2.50548124e-04 4.02748585e-04 2.97397375e-04\n",
      "  1.91241503e-04 5.84959984e-04 1.68871880e-03 1.00751817e-02\n",
      "  4.24079895e-02 1.01052493e-01 9.55074131e-02 8.33262801e-02\n",
      "  1.77166522e-01 4.79636252e-01 6.54633522e-01 8.22687984e-01\n",
      "  7.26557970e-01 6.01656914e-01 5.59464693e-01 3.17053139e-01\n",
      "  2.98157573e-01 3.10226500e-01 5.49337626e-01 6.94105387e-01\n",
      "  7.09152877e-01 3.91102612e-01 2.81665921e-02 3.49369645e-03\n",
      "  1.11222267e-03 3.24547291e-04 3.63558531e-04 1.46389008e-04\n",
      "  1.75714493e-04 2.20805407e-04 1.73443556e-03 6.16198778e-03\n",
      "  7.68462718e-02 9.88615751e-02 1.01515889e-01 7.88579881e-02\n",
      "  1.13174975e-01 1.26467049e-01 2.60636151e-01 3.13200921e-01\n",
      "  1.38301104e-01 9.12533998e-02 9.11155045e-02 8.82921815e-02\n",
      "  1.33308291e-01 3.09799969e-01 7.76990354e-01 8.45921397e-01\n",
      "  6.89919233e-01 4.19515640e-01 4.17901278e-02 2.68161297e-03\n",
      "  2.87234783e-04 2.09152699e-04 3.77923250e-04 1.84476376e-04\n",
      "  1.63018703e-04 7.17520714e-04 3.23528051e-03 8.63751769e-03\n",
      "  3.04076672e-02 2.87303925e-02 2.99555063e-02 3.02730203e-02\n",
      "  4.69677448e-02 3.52013409e-02 3.65562439e-02 5.00825047e-02\n",
      "  5.66492081e-02 7.43467510e-02 9.82022285e-02 2.05394894e-01\n",
      "  3.34477067e-01 6.65446758e-01 8.90834451e-01 8.67771387e-01\n",
      "  6.94481969e-01 1.59074128e-01 1.25632286e-02 8.05705786e-04\n",
      "  3.13222408e-04 2.82675028e-04 2.42382288e-04 2.18421221e-04\n",
      "  2.73138285e-04 4.51505184e-04 9.12874937e-04 4.13650274e-03\n",
      "  1.52685344e-02 1.47909820e-02 1.21333599e-02 1.10450685e-02\n",
      "  1.06782317e-02 3.69942188e-03 8.17671418e-03 2.91126072e-02\n",
      "  8.00957978e-02 2.94779956e-01 4.37341779e-01 4.89093274e-01\n",
      "  7.09250391e-01 8.57001781e-01 8.91551495e-01 7.66773582e-01\n",
      "  3.41028780e-01 3.77876163e-02 1.58432126e-03 4.06920910e-04\n",
      "  9.91311681e-05 3.12060118e-04 4.22954559e-04 2.32160091e-04\n",
      "  2.73853540e-04 3.04728746e-04 1.11976266e-03 2.11325288e-03\n",
      "  3.14217806e-03 1.19589567e-02 9.22158360e-03 2.02074647e-03\n",
      "  2.32085586e-03 1.97264552e-03 1.30462646e-02 1.05287254e-01\n",
      "  5.36130250e-01 7.52398849e-01 8.05387616e-01 8.53189111e-01\n",
      "  8.35587382e-01 8.53926420e-01 8.04280043e-01 6.80403888e-01\n",
      "  1.57938629e-01 1.17373765e-02 5.70446253e-04 7.60190451e-05\n",
      "  5.32931590e-05 1.56730413e-04 2.42620707e-04 2.32517719e-04\n",
      "  2.18987465e-04 1.88142061e-04 7.25597143e-04 1.22731924e-03\n",
      "  3.61752510e-03 6.69500232e-03 5.56436181e-03 2.83211470e-03\n",
      "  5.08868694e-03 6.07189536e-03 5.75278699e-02 4.84473974e-01\n",
      "  7.20462263e-01 9.10829902e-01 8.77799273e-01 7.50165939e-01\n",
      "  8.78354430e-01 8.13289702e-01 7.15933919e-01 5.12170017e-01\n",
      "  1.33417130e-01 4.06110287e-03 6.86883926e-04 1.92552805e-04\n",
      "  8.86653143e-05 3.84449959e-04 1.82479620e-04 2.63363123e-04\n",
      "  2.65151262e-04 3.69429588e-04 3.80247831e-04 1.16503239e-03\n",
      "  2.49743462e-03 3.46225500e-03 4.32899594e-03 4.61503863e-03\n",
      "  2.29346752e-03 6.03359938e-03 5.85663021e-02 6.44873440e-01\n",
      "  7.48572171e-01 8.26957822e-01 7.96181560e-01 7.12190628e-01\n",
      "  8.14412355e-01 6.94923162e-01 7.08809972e-01 3.83271396e-01\n",
      "  1.05895460e-01 6.13775849e-03 1.12822652e-03 2.83181667e-04\n",
      "  1.96576118e-04 1.28924847e-04 4.64200974e-04 1.33872032e-04\n",
      "  1.54495239e-04 1.26123428e-04 3.02493572e-04 1.86496973e-03\n",
      "  5.32847643e-03 4.86662984e-03 6.56843185e-03 4.60037589e-03\n",
      "  2.76362896e-03 3.30290198e-03 1.80158019e-02 9.35625434e-02\n",
      "  2.37580627e-01 2.66923010e-01 2.08098501e-01 2.80140340e-01\n",
      "  3.88486981e-01 8.10750723e-01 8.11461329e-01 4.19599116e-01\n",
      "  7.51752555e-02 1.14043355e-02 1.60467625e-03 2.82853842e-04\n",
      "  1.61200762e-04 1.61886215e-04 2.16573477e-04 2.21222639e-04\n",
      "  2.05814838e-04 1.67906284e-04 4.56511974e-04 4.42337990e-03\n",
      "  5.56394458e-03 1.31417811e-02 1.37285888e-02 1.31608546e-02\n",
      "  4.05395031e-03 4.27323580e-03 7.09560513e-03 1.93190873e-02\n",
      "  3.22864950e-02 3.61076295e-02 4.38338816e-02 9.55367684e-02\n",
      "  2.80641019e-01 7.66531527e-01 7.07836628e-01 3.99284542e-01\n",
      "  3.74346077e-02 9.37780738e-03 2.77462602e-03 7.27474689e-04\n",
      "  2.69830227e-04 1.43438578e-04 2.01702118e-04 3.17841768e-04\n",
      "  2.37792730e-04 2.23457813e-04 4.95672226e-04 5.10159135e-03\n",
      "  1.58555806e-02 2.99950540e-02 4.14826870e-02 2.28029490e-02\n",
      "  5.87067008e-03 3.02761793e-03 2.77733803e-03 7.12138414e-03\n",
      "  6.51922822e-03 1.10358000e-02 2.75856555e-02 2.05411613e-02\n",
      "  8.13119411e-02 4.26764727e-01 5.55841506e-01 2.18477905e-01\n",
      "  6.79744482e-02 2.26599276e-02 5.06785512e-03 1.23235583e-03\n",
      "  9.86456871e-04 1.90168619e-04 2.62349844e-04 1.60962343e-04\n",
      "  2.85625458e-04 1.99913979e-04 1.16950274e-03 1.55079365e-02\n",
      "  4.72679138e-02 8.83430541e-02 4.88003492e-02 1.51103735e-02\n",
      "  5.72922826e-03 3.22449207e-03 1.25658512e-03 1.80420280e-03\n",
      "  3.44789028e-03 9.60057974e-03 4.09069657e-02 1.42685175e-02\n",
      "  1.34000212e-01 3.88991445e-01 5.53111672e-01 3.70050967e-01\n",
      "  1.62209898e-01 2.34543085e-02 6.36982918e-03 3.05759907e-03\n",
      "  7.02232122e-04 4.60118055e-04 3.34978104e-04 2.83032656e-04\n",
      "  3.32474709e-04 2.11447477e-04 3.91417742e-03 3.97427678e-02\n",
      "  7.67435431e-02 1.90229595e-01 1.01962447e-01 1.02636516e-01\n",
      "  2.51314044e-02 3.54114175e-03 1.76572800e-03 1.44430995e-03\n",
      "  5.61392307e-03 2.56094933e-02 1.47961974e-02 3.30839753e-02\n",
      "  2.68258929e-01 5.46472609e-01 5.48691809e-01 2.78736651e-01\n",
      "  7.40307570e-02 2.02436745e-02 6.40493631e-03 2.30666995e-03\n",
      "  1.12816691e-03 4.78774309e-04 5.05417585e-04 2.31504440e-04\n",
      "  1.81466341e-04 4.73618507e-04 4.08402085e-03 7.46095479e-02\n",
      "  3.45188379e-01 4.39655930e-01 3.73538077e-01 2.55701035e-01\n",
      "  1.18808687e-01 5.01443446e-02 1.78630054e-02 9.88057256e-03\n",
      "  2.29428411e-02 3.41820717e-02 8.26961696e-02 1.50498241e-01\n",
      "  5.98714828e-01 8.76583874e-01 5.76100826e-01 1.84025466e-01\n",
      "  3.87564600e-02 1.05574429e-02 8.92606378e-03 3.25661898e-03\n",
      "  1.54998899e-03 6.95943832e-04 6.41763210e-04 1.81436539e-04\n",
      "  2.26765871e-04 2.62379646e-04 2.32261419e-03 5.18390536e-02\n",
      "  2.99717426e-01 7.20964313e-01 7.72724509e-01 6.90305710e-01\n",
      "  4.04108703e-01 1.35992467e-01 1.17954969e-01 6.08595908e-02\n",
      "  9.49575603e-02 1.90498769e-01 3.05740952e-01 7.05719829e-01\n",
      "  9.31032300e-01 8.78485918e-01 5.47248363e-01 5.43404818e-02\n",
      "  1.31380558e-02 8.21858644e-03 3.27846408e-03 2.79319286e-03\n",
      "  1.49556994e-03 1.03840232e-03 2.96711922e-04 2.20626593e-04\n",
      "  1.63018703e-04 1.44064426e-04 1.78509951e-03 5.56257069e-02\n",
      "  2.94883132e-01 5.06229818e-01 8.19031715e-01 9.25060987e-01\n",
      "  8.90876591e-01 7.38712788e-01 6.30520344e-01 5.14530241e-01\n",
      "  5.44071674e-01 6.62273526e-01 8.29597712e-01 9.42798793e-01\n",
      "  8.94233704e-01 5.63791037e-01 1.12214029e-01 2.51584947e-02\n",
      "  9.16838646e-03 3.48579884e-03 3.94093990e-03 1.87528133e-03\n",
      "  2.56153941e-03 6.84320927e-04 2.88546085e-04 2.08467245e-04\n",
      "  2.21699476e-04 2.35438347e-04 7.44938850e-04 9.19166207e-03\n",
      "  7.13751614e-02 3.48832875e-01 7.81325161e-01 9.21910405e-01\n",
      "  9.61824656e-01 9.43254352e-01 9.20655906e-01 7.73291469e-01\n",
      "  8.00976753e-01 7.05185950e-01 8.02673101e-01 7.78867364e-01\n",
      "  5.31174660e-01 2.42979050e-01 4.68652844e-02 1.18289888e-02\n",
      "  1.47989988e-02 2.89878249e-03 1.91918015e-03 1.99171901e-03\n",
      "  8.73178244e-04 3.22669744e-04 2.71350145e-04 2.42620707e-04\n",
      "  2.08795071e-04 3.02255154e-04 2.68876553e-04 2.00551748e-03\n",
      "  1.21596158e-02 1.18002534e-01 3.43339354e-01 5.02840817e-01\n",
      "  8.25354695e-01 8.50208044e-01 7.12696731e-01 3.99673492e-01\n",
      "  3.86821061e-01 2.01956719e-01 9.65980589e-02 9.45724249e-02\n",
      "  9.61445272e-02 7.92646110e-02 1.48093402e-02 3.64595652e-03\n",
      "  4.16162610e-03 1.12706423e-03 1.93819404e-03 8.58873129e-04\n",
      "  3.94344330e-04 2.67773867e-04 1.72108412e-04 2.52515078e-04\n",
      "  2.10851431e-04 2.96324492e-04 2.00450420e-04 2.68578529e-04\n",
      "  3.21775675e-04 2.14979053e-03 4.56583500e-03 7.70619512e-03\n",
      "  7.92646408e-03 7.69454241e-03 2.95701623e-03 5.84977865e-03\n",
      "  2.85759568e-03 5.13935089e-03 3.69408727e-03 1.07665062e-02\n",
      "  2.94057131e-02 1.12653673e-02 4.08485532e-03 2.58782506e-03\n",
      "  2.10931897e-03 8.06182623e-04 3.54528427e-04 4.59372997e-04\n",
      "  1.42067671e-04 2.73168087e-04 1.67727470e-04 1.81466341e-04\n",
      "  2.15172768e-04 2.21699476e-04 2.35438347e-04 2.22265720e-04\n",
      "  2.28583813e-04 6.00069761e-04 1.01757050e-03 4.31150198e-04\n",
      "  3.19272280e-04 3.09407711e-04 2.41935253e-04 2.49266624e-04\n",
      "  4.45932150e-04 2.99990177e-04 3.75121832e-04 1.12718344e-03\n",
      "  1.84085965e-03 7.89463520e-04 9.76204872e-04 7.31498003e-04\n",
      "  7.89463520e-04 5.33461571e-04 2.77400017e-04 1.99675560e-04\n",
      "  2.60055065e-04 1.30325556e-04 2.23904848e-04 2.17258930e-04\n",
      "  1.70975924e-04 2.76297331e-04 2.08795071e-04 2.90483236e-04\n",
      "  2.41756439e-04 2.48044729e-04 4.07695770e-04 3.64482403e-04\n",
      "  6.10142946e-04 7.73012638e-04 1.20010972e-03 6.79790974e-04\n",
      "  4.39256430e-04 5.25057316e-04 3.68744135e-04 6.34610653e-04\n",
      "  1.39379501e-03 1.26266479e-03 4.50372696e-04 3.18408012e-04\n",
      "  2.50190496e-04 1.49250031e-04 2.23666430e-04 3.06427479e-04\n",
      "  1.98662281e-04 3.37421894e-04 2.28524208e-04 2.35438347e-04]], shape=(1, 784), dtype=float32)\n"
     ]
    }
   ],
   "source": [
    "hh0_p = tf.nn.sigmoid(tf.matmul(sample_case, W) + hb)\n",
    "hh0_s = tf.round(hh0_p)\n",
    "\n",
    "print(\"Probability nodes in hidden layer:\" ,hh0_p)\n",
    "print(\"activated nodes in hidden layer:\" ,hh0_s)\n",
    "\n",
    "# reconstruct\n",
    "vv1_p = tf.nn.sigmoid(tf.matmul(hh0_s, tf.transpose(W)) + vb)\n",
    "\n",
    "print(vv1_p)\n",
    "#rec_prob = sess.run(vv1_p, feed_dict={ hh0_s: hh0_s_val, W: prv_w, vb: prv_vb})"
   ]
  },
  {
   "cell_type": "markdown",
   "metadata": {},
   "source": [
    "Here we plot the reconstructed image:\n"
   ]
  },
  {
   "cell_type": "code",
   "execution_count": 25,
   "metadata": {},
   "outputs": [
    {
     "data": {
      "image/png": "[encoded data removed]",
      "text/plain": [
       "<Figure size 288x288 with 1 Axes>"
      ]
     },
     "metadata": {
      "needs_background": "light"
     },
     "output_type": "display_data"
    }
   ],
   "source": [
    "img = Image.fromarray(tile_raster_images(X=vv1_p.numpy(), img_shape=(28, 28),tile_shape=(1, 1), tile_spacing=(1, 1)))\n",
    "plt.rcParams['figure.figsize'] = (4.0, 4.0)\n",
    "imgplot = plt.imshow(img)\n",
    "imgplot.set_cmap('gray') "
   ]
  },
  {
   "cell_type": "markdown",
   "metadata": {},
   "source": [
    "<hr>\n",
    "\n",
    "## Want to learn more?\n",
    "\n",
    "Also, you can use **Watson Studio** to run these notebooks faster with bigger datasets.**Watson Studio** is IBM’s leading cloud solution for data scientists, built by data scientists. With Jupyter notebooks, RStudio, Apache Spark and popular libraries pre-packaged in the cloud, **Watson Studio** enables data scientists to collaborate on their projects without having to install anything. Join the fast-growing community of **Watson Studio** users today with a free account at [Watson Studio](https://cocl.us/ML0120EN_DSX).This is the end of this lesson. Thank you for reading this notebook, and good luck on your studies.\n"
   ]
  },
  {
   "cell_type": "markdown",
   "metadata": {},
   "source": [
    "### Thanks for completing this lesson!\n",
    "\n",
    "Notebook created by: <a href = \"https://ca.linkedin.com/in/saeedaghabozorgi?utm_medium=Exinfluencer&utm_source=Exinfluencer&utm_content=000026UJ&utm_term=10006555&utm_id=NA-SkillsNetwork-Channel-SkillsNetworkCoursesIBMDeveloperSkillsNetworkDL0120ENSkillsNetwork20629446-2021-01-01\">Saeed Aghabozorgi</a>\n",
    "\n",
    "Updated to TF 2.X by  <a href=\"https://ca.linkedin.com/in/nilmeier?utm_medium=Exinfluencer&utm_source=Exinfluencer&utm_content=000026UJ&utm_term=10006555&utm_id=NA-SkillsNetwork-Channel-SkillsNetworkCoursesIBMDeveloperSkillsNetworkDL0120ENSkillsNetwork20629446-2021-01-01\"> Jerome Nilmeier</a><br />\n"
   ]
  },
  {
   "cell_type": "markdown",
   "metadata": {},
   "source": [
    "### References:\n",
    "\n",
    "[https://en.wikipedia.org/wiki/Restricted_Boltzmann_machine](https://en.wikipedia.org/wiki/Restricted_Boltzmann_machine?utm_medium=Exinfluencer&utm_source=Exinfluencer&utm_content=000026UJ&utm_term=10006555&utm_id=NA-SkillsNetwork-Channel-SkillsNetworkCoursesIBMDeveloperSkillsNetworkDL0120ENSkillsNetwork20629446-2021-01-01)\\\n",
    "[http://deeplearning.net/tutorial/rbm.html](http://deeplearning.net/tutorial/rbm.html?utm_medium=Exinfluencer&utm_source=Exinfluencer&utm_content=000026UJ&utm_term=10006555&utm_id=NA-SkillsNetwork-Channel-SkillsNetworkCoursesIBMDeveloperSkillsNetworkDL0120ENSkillsNetwork20629446-2021-01-01)\\\n",
    "[http://www.cs.utoronto.ca/\\~hinton/absps/netflixICML.pdf](http://www.cs.utoronto.ca/\\~hinton/absps/netflixICML.pdf?utm_medium=Exinfluencer&utm_source=Exinfluencer&utm_content=000026UJ&utm_term=10006555&utm_id=NA-SkillsNetwork-Channel-SkillsNetworkCoursesIBMDeveloperSkillsNetworkDL0120ENSkillsNetwork20629446-2021-01-01)<br>\n",
    "<http://imonad.com/rbm/restricted-boltzmann-machine/>\n"
   ]
  },
  {
   "cell_type": "markdown",
   "metadata": {},
   "source": [
    "<hr>\n",
    "\n",
    "Copyright © 2018 [Cognitive Class](https://cocl.us/DX0108EN_CC). This notebook and its source code are released under the terms of the [MIT License](https://bigdatauniversity.com/mit-license/?utm_medium=Exinfluencer&utm_source=Exinfluencer&utm_content=000026UJ&utm_term=10006555&utm_id=NA-SkillsNetwork-Channel-SkillsNetworkCoursesIBMDeveloperSkillsNetworkDL0120ENSkillsNetwork20629446-2021-01-01).\n"
   ]
  }
 ],
 "metadata": {
  "kernelspec": {
   "display_name": "Python",
   "language": "python",
   "name": "conda-env-python-py"
  },
  "language_info": {
   "codemirror_mode": {
    "name": "ipython",
    "version": 3
   },
   "file_extension": ".py",
   "mimetype": "text/x-python",
   "name": "python",
   "nbconvert_exporter": "python",
   "pygments_lexer": "ipython3",
   "version": "3.7.12"
  },
  "widgets": {
   "state": {},
   "version": "1.1.2"
  }
 },
 "nbformat": 4,
 "nbformat_minor": 4
}
